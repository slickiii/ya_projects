{
 "cells": [
  {
   "cell_type": "markdown",
   "metadata": {},
   "source": [
    "#  Прогнозирование заказов такси"
   ]
  },
  {
   "cell_type": "markdown",
   "metadata": {},
   "source": [
    "Построение модели прогноза количества заказов такси на следующий час по предоставленным историческим данным. \n",
    "Оценка модели по метрике среднеквадратической ошибки(RMSE)"
   ]
  },
  {
   "cell_type": "code",
   "execution_count": 1,
   "metadata": {},
   "outputs": [
    {
     "name": "stdout",
     "output_type": "stream",
     "text": [
      "Collecting optuna\n",
      "  Downloading optuna-2.10.1-py3-none-any.whl (308 kB)\n",
      "\u001b[K     |████████████████████████████████| 308 kB 2.1 MB/s eta 0:00:01\n",
      "\u001b[?25hCollecting cmaes>=0.8.2\n",
      "  Downloading cmaes-0.8.2-py3-none-any.whl (15 kB)\n",
      "Requirement already satisfied: packaging>=20.0 in /opt/conda/lib/python3.9/site-packages (from optuna) (21.3)\n",
      "Requirement already satisfied: scipy!=1.4.0 in /opt/conda/lib/python3.9/site-packages (from optuna) (1.8.0)\n",
      "Requirement already satisfied: tqdm in /opt/conda/lib/python3.9/site-packages (from optuna) (4.61.2)\n",
      "Requirement already satisfied: PyYAML in /opt/conda/lib/python3.9/site-packages (from optuna) (6.0)\n",
      "Collecting colorlog\n",
      "  Downloading colorlog-6.6.0-py2.py3-none-any.whl (11 kB)\n",
      "Requirement already satisfied: alembic in /opt/conda/lib/python3.9/site-packages (from optuna) (1.6.5)\n",
      "Requirement already satisfied: numpy in /opt/conda/lib/python3.9/site-packages (from optuna) (1.21.1)\n",
      "Requirement already satisfied: sqlalchemy>=1.1.0 in /opt/conda/lib/python3.9/site-packages (from optuna) (1.4.20)\n",
      "Collecting cliff\n",
      "  Downloading cliff-3.10.1-py3-none-any.whl (81 kB)\n",
      "\u001b[K     |████████████████████████████████| 81 kB 9.4 MB/s  eta 0:00:01\n",
      "\u001b[?25hRequirement already satisfied: pyparsing!=3.0.5,>=2.0.2 in /opt/conda/lib/python3.9/site-packages (from packaging>=20.0->optuna) (2.4.7)\n",
      "Requirement already satisfied: greenlet!=0.4.17 in /opt/conda/lib/python3.9/site-packages (from sqlalchemy>=1.1.0->optuna) (1.1.0)\n",
      "Requirement already satisfied: Mako in /opt/conda/lib/python3.9/site-packages (from alembic->optuna) (1.1.4)\n",
      "Requirement already satisfied: python-dateutil in /opt/conda/lib/python3.9/site-packages (from alembic->optuna) (2.8.1)\n",
      "Requirement already satisfied: python-editor>=0.3 in /opt/conda/lib/python3.9/site-packages (from alembic->optuna) (1.0.4)\n",
      "Collecting pbr!=2.1.0,>=2.0.0\n",
      "  Downloading pbr-5.9.0-py2.py3-none-any.whl (112 kB)\n",
      "\u001b[K     |████████████████████████████████| 112 kB 41.3 MB/s eta 0:00:01\n",
      "\u001b[?25hCollecting PrettyTable>=0.7.2\n",
      "  Downloading prettytable-3.3.0-py3-none-any.whl (26 kB)\n",
      "Collecting cmd2>=1.0.0\n",
      "  Downloading cmd2-2.4.1-py3-none-any.whl (146 kB)\n",
      "\u001b[K     |████████████████████████████████| 146 kB 35.5 MB/s eta 0:00:01\n",
      "\u001b[?25hCollecting stevedore>=2.0.1\n",
      "  Downloading stevedore-3.5.0-py3-none-any.whl (49 kB)\n",
      "\u001b[K     |████████████████████████████████| 49 kB 7.8 MB/s  eta 0:00:01\n",
      "\u001b[?25hCollecting autopage>=0.4.0\n",
      "  Downloading autopage-0.5.1-py3-none-any.whl (29 kB)\n",
      "Collecting pyperclip>=1.6\n",
      "  Downloading pyperclip-1.8.2.tar.gz (20 kB)\n",
      "Requirement already satisfied: attrs>=16.3.0 in /opt/conda/lib/python3.9/site-packages (from cmd2>=1.0.0->cliff->optuna) (21.2.0)\n",
      "Requirement already satisfied: wcwidth>=0.1.7 in /opt/conda/lib/python3.9/site-packages (from cmd2>=1.0.0->cliff->optuna) (0.2.5)\n",
      "Requirement already satisfied: MarkupSafe>=0.9.2 in /opt/conda/lib/python3.9/site-packages (from Mako->alembic->optuna) (2.0.1)\n",
      "Requirement already satisfied: six>=1.5 in /opt/conda/lib/python3.9/site-packages (from python-dateutil->alembic->optuna) (1.16.0)\n",
      "Building wheels for collected packages: pyperclip\n",
      "  Building wheel for pyperclip (setup.py) ... \u001b[?25ldone\n",
      "\u001b[?25h  Created wheel for pyperclip: filename=pyperclip-1.8.2-py3-none-any.whl size=11107 sha256=1c9252352969ca85ad2c8f4ed40d80f314575f5de63f31ec5cf53c8d08ccd77d\n",
      "  Stored in directory: /home/jovyan/.cache/pip/wheels/0c/09/9e/49e21a6840ef7955b06d47394afef0058f0378c0914e48b8b8\n",
      "Successfully built pyperclip\n",
      "Installing collected packages: pyperclip, pbr, stevedore, PrettyTable, cmd2, autopage, colorlog, cmaes, cliff, optuna\n",
      "Successfully installed PrettyTable-3.3.0 autopage-0.5.1 cliff-3.10.1 cmaes-0.8.2 cmd2-2.4.1 colorlog-6.6.0 optuna-2.10.1 pbr-5.9.0 pyperclip-1.8.2 stevedore-3.5.0\n"
     ]
    }
   ],
   "source": [
    "! pip install optuna\n",
    "! pip install -U statsmodels -q"
   ]
  },
  {
   "cell_type": "markdown",
   "metadata": {},
   "source": [
    "## Подготовка"
   ]
  },
  {
   "cell_type": "code",
   "execution_count": 2,
   "metadata": {},
   "outputs": [],
   "source": [
    "import pandas as pd\n",
    "import numpy as np\n",
    "import matplotlib.pyplot as plt\n",
    "import seaborn as sns\n",
    "import time\n",
    "import sklearn\n",
    "import catboost\n",
    "import lightgbm\n",
    "import optuna\n",
    "\n",
    "from sklearn.model_selection import train_test_split\n",
    "from sklearn.linear_model import LinearRegression\n",
    "\n",
    "from statsmodels.tsa.seasonal import seasonal_decompose\n",
    "from statsmodels.tsa.stattools import adfuller\n",
    "\n",
    "from optuna.integration import OptunaSearchCV\n",
    "from catboost import CatBoostRegressor\n",
    "from lightgbm import LGBMRegressor\n",
    "\n",
    "from sklearn.metrics import mean_squared_error, make_scorer, mean_absolute_error\n",
    "from sklearn import utils, preprocessing\n",
    "from sklearn.model_selection import train_test_split, TimeSeriesSplit, cross_val_score\n",
    "from sklearn.linear_model import LinearRegression\n",
    "from sklearn.tree import DecisionTreeRegressor\n",
    "from sklearn.ensemble import RandomForestRegressor\n",
    "\n",
    "import warnings\n",
    "warnings.simplefilter(\"ignore\")\n",
    "\n",
    "pd.options.display.max_columns = None"
   ]
  },
  {
   "cell_type": "code",
   "execution_count": null,
   "metadata": {},
   "outputs": [],
   "source": [
    "def open_file(name):\n",
    "    try:\n",
    "        return pd.read_csv(name, index_col=[0], parse_dates=[0])\n",
    "    except FileNotFoundError:\n",
    "        return pd.read_csv('/datasets/' + name, index_col=[0], parse_dates=[0])\n",
    "\n",
    "df = open_file('taxi.csv')"
   ]
  },
  {
   "cell_type": "code",
   "execution_count": 4,
   "metadata": {
    "scrolled": true
   },
   "outputs": [
    {
     "name": "stdout",
     "output_type": "stream",
     "text": [
      "----------------------------------------------------------------------------------------------------\n",
      "Общее описание полученных данных:\n",
      "----------------------------------------------------------------------------------------------------\n",
      "<class 'pandas.core.frame.DataFrame'>\n",
      "DatetimeIndex: 26496 entries, 2018-03-01 00:00:00 to 2018-08-31 23:50:00\n",
      "Data columns (total 1 columns):\n",
      " #   Column      Non-Null Count  Dtype\n",
      "---  ------      --------------  -----\n",
      " 0   num_orders  26496 non-null  int64\n",
      "dtypes: int64(1)\n",
      "memory usage: 414.0 KB\n",
      "----------------------------------------------------------------------------------------------------\n",
      "Описание количественных переменных:\n",
      "----------------------------------------------------------------------------------------------------\n"
     ]
    },
    {
     "data": {
      "text/html": [
       "<div>\n",
       "<style scoped>\n",
       "    .dataframe tbody tr th:only-of-type {\n",
       "        vertical-align: middle;\n",
       "    }\n",
       "\n",
       "    .dataframe tbody tr th {\n",
       "        vertical-align: top;\n",
       "    }\n",
       "\n",
       "    .dataframe thead th {\n",
       "        text-align: right;\n",
       "    }\n",
       "</style>\n",
       "<table border=\"1\" class=\"dataframe\">\n",
       "  <thead>\n",
       "    <tr style=\"text-align: right;\">\n",
       "      <th></th>\n",
       "      <th>num_orders</th>\n",
       "    </tr>\n",
       "  </thead>\n",
       "  <tbody>\n",
       "    <tr>\n",
       "      <th>count</th>\n",
       "      <td>26496.000000</td>\n",
       "    </tr>\n",
       "    <tr>\n",
       "      <th>mean</th>\n",
       "      <td>14.070463</td>\n",
       "    </tr>\n",
       "    <tr>\n",
       "      <th>std</th>\n",
       "      <td>9.211330</td>\n",
       "    </tr>\n",
       "    <tr>\n",
       "      <th>min</th>\n",
       "      <td>0.000000</td>\n",
       "    </tr>\n",
       "    <tr>\n",
       "      <th>25%</th>\n",
       "      <td>8.000000</td>\n",
       "    </tr>\n",
       "    <tr>\n",
       "      <th>50%</th>\n",
       "      <td>13.000000</td>\n",
       "    </tr>\n",
       "    <tr>\n",
       "      <th>75%</th>\n",
       "      <td>19.000000</td>\n",
       "    </tr>\n",
       "    <tr>\n",
       "      <th>max</th>\n",
       "      <td>119.000000</td>\n",
       "    </tr>\n",
       "  </tbody>\n",
       "</table>\n",
       "</div>"
      ],
      "text/plain": [
       "         num_orders\n",
       "count  26496.000000\n",
       "mean      14.070463\n",
       "std        9.211330\n",
       "min        0.000000\n",
       "25%        8.000000\n",
       "50%       13.000000\n",
       "75%       19.000000\n",
       "max      119.000000"
      ]
     },
     "metadata": {},
     "output_type": "display_data"
    },
    {
     "name": "stdout",
     "output_type": "stream",
     "text": [
      "----------------------------------------------------------------------------------------------------\n",
      "Количество полных дубликатов в таблице = 26415\n",
      "\n"
     ]
    }
   ],
   "source": [
    "# функция для получения краткой информации об исходных данных:\n",
    "def get_info(df):\n",
    "    print(100 * \"-\")\n",
    "    print('Общее описание полученных данных:')\n",
    "    print(100 * \"-\")\n",
    "    df.info()\n",
    "    print(100 * \"-\")\n",
    "    print('Описание количественных переменных:')\n",
    "    print(100 * \"-\")\n",
    "    display(df.describe(datetime_is_numeric=True))\n",
    "    print(100 * \"-\")\n",
    "    print(f'Количество полных дубликатов в таблице = {df.duplicated().sum()}')\n",
    "    print()\n",
    "\n",
    "\n",
    "# ее применение\n",
    "get_info(df)"
   ]
  },
  {
   "cell_type": "code",
   "execution_count": 5,
   "metadata": {},
   "outputs": [],
   "source": [
    "# ресэмплируем по часу\n",
    "df.sort_index(inplace=True)\n",
    "df = df.resample('1H').sum()\n",
    "\n",
    "# разложим временной ряд на части\n",
    "decomposed = seasonal_decompose(df) "
   ]
  },
  {
   "cell_type": "markdown",
   "metadata": {},
   "source": [
    "###  Вывод:\n",
    "Качество данных для обработки хорошее. Проведен ресемплинг временного ряда на часовые интервалы с агрегацией по среднему значению. Проведено разложение ряда на части для дальнейшей оценки.  "
   ]
  },
  {
   "cell_type": "markdown",
   "metadata": {},
   "source": [
    "## Анализ"
   ]
  },
  {
   "cell_type": "code",
   "execution_count": 6,
   "metadata": {},
   "outputs": [],
   "source": [
    "# Определение функции ADF теста\n",
    "\n",
    "def adf_test(timeseries):\n",
    "    # тест Дики-Фуллера\n",
    "    print('Результаты теста Дики-Фуллера:')\n",
    "    dftest = adfuller(timeseries, autolag='AIC')\n",
    "    dfoutput = pd.Series(dftest[0:4], index=['Test Statistic',\n",
    "                                            'p-value', '#Lags Used',\n",
    "                                            'Number of Observations Used'])\n",
    "    for key,value in dftest[4].items():\n",
    "        dfoutput['Critical Value (%s)'%key] = value\n",
    "    print(dfoutput)        "
   ]
  },
  {
   "cell_type": "code",
   "execution_count": 7,
   "metadata": {},
   "outputs": [
    {
     "name": "stdout",
     "output_type": "stream",
     "text": [
      "Результаты теста Дики-Фуллера:\n",
      "Test Statistic                   -3.068924\n",
      "p-value                           0.028940\n",
      "#Lags Used                       30.000000\n",
      "Number of Observations Used    4385.000000\n",
      "Critical Value (1%)              -3.431842\n",
      "Critical Value (5%)              -2.862199\n",
      "Critical Value (10%)             -2.567121\n",
      "dtype: float64\n",
      "Ряд монотоный\n"
     ]
    }
   ],
   "source": [
    "# Проверка временного ряда на стационарность\n",
    "adf_test(df['num_orders'])\n",
    "\n",
    "# и монотонность \n",
    "if df.index.is_monotonic:\n",
    "    print('Ряд монотоный')\n",
    "else:\n",
    "    print('Ряд не монотонный')"
   ]
  },
  {
   "cell_type": "markdown",
   "metadata": {},
   "source": [
    "<div style=\"border-radius: 15px; border: 3px solid indigo; padding: 15px;\">Нулевая гипотеза в тесте: ряд нестационарный.\n",
    "P-value меньше 0.05, следовательно - отвергаем нулевую гипотезу. </div>"
   ]
  },
  {
   "cell_type": "code",
   "execution_count": 8,
   "metadata": {},
   "outputs": [
    {
     "data": {
      "image/png": "[encoded data removed]",
      "text/plain": [
       "<Figure size 1296x1152 with 3 Axes>"
      ]
     },
     "metadata": {
      "needs_background": "light"
     },
     "output_type": "display_data"
    }
   ],
   "source": [
    "# оценим графики и выделим по ним фичи\n",
    "plt.figure(figsize=(18, 16))\n",
    "\n",
    "plt.subplot(311)\n",
    "# Чтобы график корректно отобразился, указываем его\n",
    "# оси ax, равными plt.gca() (англ. get current axis,\n",
    "# получить текущие оси)\n",
    "decomposed.trend.plot(ax=plt.gca())\n",
    "plt.title('Трэнд', fontsize=16)\n",
    "\n",
    "plt.subplot(312)\n",
    "decomposed.seasonal.plot(ax=plt.gca()) \n",
    "plt.title('Сезонность', fontsize=16)\n",
    "\n",
    "#plt.subplot(313)\n",
    "#decomposed.seasonal.tail(24*7).plot(x=plt.gca())\n",
    "#plt.title('Сезонность 27/7', fontsize=16)\n",
    "\n",
    "plt.subplot(313)\n",
    "decomposed.resid.plot(ax=plt.gca())\n",
    "plt.title('Остаток декомпозиции', fontsize=16)\n",
    "\n",
    "plt.tight_layout()"
   ]
  },
  {
   "cell_type": "code",
   "execution_count": 9,
   "metadata": {},
   "outputs": [
    {
     "data": {
      "text/plain": [
       "Text(0.5, 1.0, 'Сезонность 24*7 / час*дней')"
      ]
     },
     "execution_count": 9,
     "metadata": {},
     "output_type": "execute_result"
    },
    {
     "data": {
      "text/plain": [
       "<Figure size 1296x1152 with 0 Axes>"
      ]
     },
     "metadata": {},
     "output_type": "display_data"
    },
    {
     "data": {
      "image/png": "[encoded data removed]",
      "text/plain": [
       "<Figure size 1296x432 with 1 Axes>"
      ]
     },
     "metadata": {
      "needs_background": "light"
     },
     "output_type": "display_data"
    },
    {
     "data": {
      "image/png": "[encoded data removed]",
      "text/plain": [
       "<Figure size 1296x1152 with 1 Axes>"
      ]
     },
     "metadata": {
      "needs_background": "light"
     },
     "output_type": "display_data"
    }
   ],
   "source": [
    "# оценим поближе разность временного ряда\n",
    "df_shift = df - df.shift()\n",
    "df_shift['mean'] = df['num_orders'].rolling(24).mean()\n",
    "df_shift['std'] = df['num_orders'].rolling(24).std()\n",
    "\n",
    "plt.figure(figsize=(18, 16))\n",
    "df_shift.tail(24*7).plot(figsize=(18, 6))\n",
    "\n",
    "# оценим графики сезонности поближе, выделим фичи\n",
    "plt.figure(figsize=(18, 16))\n",
    "plt.subplot(313)\n",
    "decomposed.seasonal.tail(24*7).plot(x=plt.gca())\n",
    "plt.title('Сезонность 24*7 / час*дней')"
   ]
  },
  {
   "cell_type": "code",
   "execution_count": 10,
   "metadata": {},
   "outputs": [],
   "source": [
    "# функция добавления признаков по временному ряду\n",
    "\n",
    "def make_features(data, max_lag, rolling_mean_size):\n",
    "   \n",
    "    data['hour'] = data.index.hour\n",
    "    data['dayofweek'] = data.index.dayofweek\n",
    "    \n",
    "    for lag in range(1, max_lag + 1):\n",
    "        data['lag_{}'.format(lag)] = data['num_orders'].shift(lag)\n",
    "\n",
    "    data['rolling_mean'] = data['num_orders'].shift().rolling(rolling_mean_size).mean()"
   ]
  },
  {
   "cell_type": "code",
   "execution_count": 11,
   "metadata": {},
   "outputs": [
    {
     "data": {
      "text/html": [
       "<div>\n",
       "<style scoped>\n",
       "    .dataframe tbody tr th:only-of-type {\n",
       "        vertical-align: middle;\n",
       "    }\n",
       "\n",
       "    .dataframe tbody tr th {\n",
       "        vertical-align: top;\n",
       "    }\n",
       "\n",
       "    .dataframe thead th {\n",
       "        text-align: right;\n",
       "    }\n",
       "</style>\n",
       "<table border=\"1\" class=\"dataframe\">\n",
       "  <thead>\n",
       "    <tr style=\"text-align: right;\">\n",
       "      <th></th>\n",
       "      <th>num_orders</th>\n",
       "      <th>hour</th>\n",
       "      <th>dayofweek</th>\n",
       "      <th>lag_1</th>\n",
       "      <th>lag_2</th>\n",
       "      <th>lag_3</th>\n",
       "      <th>lag_4</th>\n",
       "      <th>rolling_mean</th>\n",
       "    </tr>\n",
       "    <tr>\n",
       "      <th>datetime</th>\n",
       "      <th></th>\n",
       "      <th></th>\n",
       "      <th></th>\n",
       "      <th></th>\n",
       "      <th></th>\n",
       "      <th></th>\n",
       "      <th></th>\n",
       "      <th></th>\n",
       "    </tr>\n",
       "  </thead>\n",
       "  <tbody>\n",
       "    <tr>\n",
       "      <th>2018-03-01 00:00:00</th>\n",
       "      <td>124</td>\n",
       "      <td>0</td>\n",
       "      <td>3</td>\n",
       "      <td>NaN</td>\n",
       "      <td>NaN</td>\n",
       "      <td>NaN</td>\n",
       "      <td>NaN</td>\n",
       "      <td>NaN</td>\n",
       "    </tr>\n",
       "    <tr>\n",
       "      <th>2018-03-01 01:00:00</th>\n",
       "      <td>85</td>\n",
       "      <td>1</td>\n",
       "      <td>3</td>\n",
       "      <td>124.0</td>\n",
       "      <td>NaN</td>\n",
       "      <td>NaN</td>\n",
       "      <td>NaN</td>\n",
       "      <td>NaN</td>\n",
       "    </tr>\n",
       "    <tr>\n",
       "      <th>2018-03-01 02:00:00</th>\n",
       "      <td>71</td>\n",
       "      <td>2</td>\n",
       "      <td>3</td>\n",
       "      <td>85.0</td>\n",
       "      <td>124.0</td>\n",
       "      <td>NaN</td>\n",
       "      <td>NaN</td>\n",
       "      <td>NaN</td>\n",
       "    </tr>\n",
       "    <tr>\n",
       "      <th>2018-03-01 03:00:00</th>\n",
       "      <td>66</td>\n",
       "      <td>3</td>\n",
       "      <td>3</td>\n",
       "      <td>71.0</td>\n",
       "      <td>85.0</td>\n",
       "      <td>124.0</td>\n",
       "      <td>NaN</td>\n",
       "      <td>NaN</td>\n",
       "    </tr>\n",
       "    <tr>\n",
       "      <th>2018-03-01 04:00:00</th>\n",
       "      <td>43</td>\n",
       "      <td>4</td>\n",
       "      <td>3</td>\n",
       "      <td>66.0</td>\n",
       "      <td>71.0</td>\n",
       "      <td>85.0</td>\n",
       "      <td>124.0</td>\n",
       "      <td>NaN</td>\n",
       "    </tr>\n",
       "    <tr>\n",
       "      <th>2018-03-01 05:00:00</th>\n",
       "      <td>6</td>\n",
       "      <td>5</td>\n",
       "      <td>3</td>\n",
       "      <td>43.0</td>\n",
       "      <td>66.0</td>\n",
       "      <td>71.0</td>\n",
       "      <td>85.0</td>\n",
       "      <td>NaN</td>\n",
       "    </tr>\n",
       "    <tr>\n",
       "      <th>2018-03-01 06:00:00</th>\n",
       "      <td>12</td>\n",
       "      <td>6</td>\n",
       "      <td>3</td>\n",
       "      <td>6.0</td>\n",
       "      <td>43.0</td>\n",
       "      <td>66.0</td>\n",
       "      <td>71.0</td>\n",
       "      <td>NaN</td>\n",
       "    </tr>\n",
       "    <tr>\n",
       "      <th>2018-03-01 07:00:00</th>\n",
       "      <td>15</td>\n",
       "      <td>7</td>\n",
       "      <td>3</td>\n",
       "      <td>12.0</td>\n",
       "      <td>6.0</td>\n",
       "      <td>43.0</td>\n",
       "      <td>66.0</td>\n",
       "      <td>NaN</td>\n",
       "    </tr>\n",
       "    <tr>\n",
       "      <th>2018-03-01 08:00:00</th>\n",
       "      <td>34</td>\n",
       "      <td>8</td>\n",
       "      <td>3</td>\n",
       "      <td>15.0</td>\n",
       "      <td>12.0</td>\n",
       "      <td>6.0</td>\n",
       "      <td>43.0</td>\n",
       "      <td>NaN</td>\n",
       "    </tr>\n",
       "    <tr>\n",
       "      <th>2018-03-01 09:00:00</th>\n",
       "      <td>69</td>\n",
       "      <td>9</td>\n",
       "      <td>3</td>\n",
       "      <td>34.0</td>\n",
       "      <td>15.0</td>\n",
       "      <td>12.0</td>\n",
       "      <td>6.0</td>\n",
       "      <td>NaN</td>\n",
       "    </tr>\n",
       "    <tr>\n",
       "      <th>2018-03-01 10:00:00</th>\n",
       "      <td>64</td>\n",
       "      <td>10</td>\n",
       "      <td>3</td>\n",
       "      <td>69.0</td>\n",
       "      <td>34.0</td>\n",
       "      <td>15.0</td>\n",
       "      <td>12.0</td>\n",
       "      <td>NaN</td>\n",
       "    </tr>\n",
       "    <tr>\n",
       "      <th>2018-03-01 11:00:00</th>\n",
       "      <td>96</td>\n",
       "      <td>11</td>\n",
       "      <td>3</td>\n",
       "      <td>64.0</td>\n",
       "      <td>69.0</td>\n",
       "      <td>34.0</td>\n",
       "      <td>15.0</td>\n",
       "      <td>NaN</td>\n",
       "    </tr>\n",
       "    <tr>\n",
       "      <th>2018-03-01 12:00:00</th>\n",
       "      <td>30</td>\n",
       "      <td>12</td>\n",
       "      <td>3</td>\n",
       "      <td>96.0</td>\n",
       "      <td>64.0</td>\n",
       "      <td>69.0</td>\n",
       "      <td>34.0</td>\n",
       "      <td>NaN</td>\n",
       "    </tr>\n",
       "    <tr>\n",
       "      <th>2018-03-01 13:00:00</th>\n",
       "      <td>32</td>\n",
       "      <td>13</td>\n",
       "      <td>3</td>\n",
       "      <td>30.0</td>\n",
       "      <td>96.0</td>\n",
       "      <td>64.0</td>\n",
       "      <td>69.0</td>\n",
       "      <td>NaN</td>\n",
       "    </tr>\n",
       "    <tr>\n",
       "      <th>2018-03-01 14:00:00</th>\n",
       "      <td>48</td>\n",
       "      <td>14</td>\n",
       "      <td>3</td>\n",
       "      <td>32.0</td>\n",
       "      <td>30.0</td>\n",
       "      <td>96.0</td>\n",
       "      <td>64.0</td>\n",
       "      <td>NaN</td>\n",
       "    </tr>\n",
       "    <tr>\n",
       "      <th>2018-03-01 15:00:00</th>\n",
       "      <td>66</td>\n",
       "      <td>15</td>\n",
       "      <td>3</td>\n",
       "      <td>48.0</td>\n",
       "      <td>32.0</td>\n",
       "      <td>30.0</td>\n",
       "      <td>96.0</td>\n",
       "      <td>NaN</td>\n",
       "    </tr>\n",
       "    <tr>\n",
       "      <th>2018-03-01 16:00:00</th>\n",
       "      <td>43</td>\n",
       "      <td>16</td>\n",
       "      <td>3</td>\n",
       "      <td>66.0</td>\n",
       "      <td>48.0</td>\n",
       "      <td>32.0</td>\n",
       "      <td>30.0</td>\n",
       "      <td>NaN</td>\n",
       "    </tr>\n",
       "    <tr>\n",
       "      <th>2018-03-01 17:00:00</th>\n",
       "      <td>44</td>\n",
       "      <td>17</td>\n",
       "      <td>3</td>\n",
       "      <td>43.0</td>\n",
       "      <td>66.0</td>\n",
       "      <td>48.0</td>\n",
       "      <td>32.0</td>\n",
       "      <td>NaN</td>\n",
       "    </tr>\n",
       "    <tr>\n",
       "      <th>2018-03-01 18:00:00</th>\n",
       "      <td>73</td>\n",
       "      <td>18</td>\n",
       "      <td>3</td>\n",
       "      <td>44.0</td>\n",
       "      <td>43.0</td>\n",
       "      <td>66.0</td>\n",
       "      <td>48.0</td>\n",
       "      <td>NaN</td>\n",
       "    </tr>\n",
       "    <tr>\n",
       "      <th>2018-03-01 19:00:00</th>\n",
       "      <td>45</td>\n",
       "      <td>19</td>\n",
       "      <td>3</td>\n",
       "      <td>73.0</td>\n",
       "      <td>44.0</td>\n",
       "      <td>43.0</td>\n",
       "      <td>66.0</td>\n",
       "      <td>NaN</td>\n",
       "    </tr>\n",
       "    <tr>\n",
       "      <th>2018-03-01 20:00:00</th>\n",
       "      <td>61</td>\n",
       "      <td>20</td>\n",
       "      <td>3</td>\n",
       "      <td>45.0</td>\n",
       "      <td>73.0</td>\n",
       "      <td>44.0</td>\n",
       "      <td>43.0</td>\n",
       "      <td>NaN</td>\n",
       "    </tr>\n",
       "    <tr>\n",
       "      <th>2018-03-01 21:00:00</th>\n",
       "      <td>66</td>\n",
       "      <td>21</td>\n",
       "      <td>3</td>\n",
       "      <td>61.0</td>\n",
       "      <td>45.0</td>\n",
       "      <td>73.0</td>\n",
       "      <td>44.0</td>\n",
       "      <td>NaN</td>\n",
       "    </tr>\n",
       "    <tr>\n",
       "      <th>2018-03-01 22:00:00</th>\n",
       "      <td>113</td>\n",
       "      <td>22</td>\n",
       "      <td>3</td>\n",
       "      <td>66.0</td>\n",
       "      <td>61.0</td>\n",
       "      <td>45.0</td>\n",
       "      <td>73.0</td>\n",
       "      <td>NaN</td>\n",
       "    </tr>\n",
       "    <tr>\n",
       "      <th>2018-03-01 23:00:00</th>\n",
       "      <td>58</td>\n",
       "      <td>23</td>\n",
       "      <td>3</td>\n",
       "      <td>113.0</td>\n",
       "      <td>66.0</td>\n",
       "      <td>61.0</td>\n",
       "      <td>45.0</td>\n",
       "      <td>NaN</td>\n",
       "    </tr>\n",
       "    <tr>\n",
       "      <th>2018-03-02 00:00:00</th>\n",
       "      <td>90</td>\n",
       "      <td>0</td>\n",
       "      <td>4</td>\n",
       "      <td>58.0</td>\n",
       "      <td>113.0</td>\n",
       "      <td>66.0</td>\n",
       "      <td>61.0</td>\n",
       "      <td>56.833333</td>\n",
       "    </tr>\n",
       "    <tr>\n",
       "      <th>2018-03-02 01:00:00</th>\n",
       "      <td>120</td>\n",
       "      <td>1</td>\n",
       "      <td>4</td>\n",
       "      <td>90.0</td>\n",
       "      <td>58.0</td>\n",
       "      <td>113.0</td>\n",
       "      <td>66.0</td>\n",
       "      <td>55.416667</td>\n",
       "    </tr>\n",
       "    <tr>\n",
       "      <th>2018-03-02 02:00:00</th>\n",
       "      <td>75</td>\n",
       "      <td>2</td>\n",
       "      <td>4</td>\n",
       "      <td>120.0</td>\n",
       "      <td>90.0</td>\n",
       "      <td>58.0</td>\n",
       "      <td>113.0</td>\n",
       "      <td>56.875000</td>\n",
       "    </tr>\n",
       "    <tr>\n",
       "      <th>2018-03-02 03:00:00</th>\n",
       "      <td>64</td>\n",
       "      <td>3</td>\n",
       "      <td>4</td>\n",
       "      <td>75.0</td>\n",
       "      <td>120.0</td>\n",
       "      <td>90.0</td>\n",
       "      <td>58.0</td>\n",
       "      <td>57.041667</td>\n",
       "    </tr>\n",
       "    <tr>\n",
       "      <th>2018-03-02 04:00:00</th>\n",
       "      <td>20</td>\n",
       "      <td>4</td>\n",
       "      <td>4</td>\n",
       "      <td>64.0</td>\n",
       "      <td>75.0</td>\n",
       "      <td>120.0</td>\n",
       "      <td>90.0</td>\n",
       "      <td>56.958333</td>\n",
       "    </tr>\n",
       "    <tr>\n",
       "      <th>2018-03-02 05:00:00</th>\n",
       "      <td>11</td>\n",
       "      <td>5</td>\n",
       "      <td>4</td>\n",
       "      <td>20.0</td>\n",
       "      <td>64.0</td>\n",
       "      <td>75.0</td>\n",
       "      <td>120.0</td>\n",
       "      <td>56.000000</td>\n",
       "    </tr>\n",
       "  </tbody>\n",
       "</table>\n",
       "</div>"
      ],
      "text/plain": [
       "                     num_orders  hour  dayofweek  lag_1  lag_2  lag_3  lag_4  \\\n",
       "datetime                                                                       \n",
       "2018-03-01 00:00:00         124     0          3    NaN    NaN    NaN    NaN   \n",
       "2018-03-01 01:00:00          85     1          3  124.0    NaN    NaN    NaN   \n",
       "2018-03-01 02:00:00          71     2          3   85.0  124.0    NaN    NaN   \n",
       "2018-03-01 03:00:00          66     3          3   71.0   85.0  124.0    NaN   \n",
       "2018-03-01 04:00:00          43     4          3   66.0   71.0   85.0  124.0   \n",
       "2018-03-01 05:00:00           6     5          3   43.0   66.0   71.0   85.0   \n",
       "2018-03-01 06:00:00          12     6          3    6.0   43.0   66.0   71.0   \n",
       "2018-03-01 07:00:00          15     7          3   12.0    6.0   43.0   66.0   \n",
       "2018-03-01 08:00:00          34     8          3   15.0   12.0    6.0   43.0   \n",
       "2018-03-01 09:00:00          69     9          3   34.0   15.0   12.0    6.0   \n",
       "2018-03-01 10:00:00          64    10          3   69.0   34.0   15.0   12.0   \n",
       "2018-03-01 11:00:00          96    11          3   64.0   69.0   34.0   15.0   \n",
       "2018-03-01 12:00:00          30    12          3   96.0   64.0   69.0   34.0   \n",
       "2018-03-01 13:00:00          32    13          3   30.0   96.0   64.0   69.0   \n",
       "2018-03-01 14:00:00          48    14          3   32.0   30.0   96.0   64.0   \n",
       "2018-03-01 15:00:00          66    15          3   48.0   32.0   30.0   96.0   \n",
       "2018-03-01 16:00:00          43    16          3   66.0   48.0   32.0   30.0   \n",
       "2018-03-01 17:00:00          44    17          3   43.0   66.0   48.0   32.0   \n",
       "2018-03-01 18:00:00          73    18          3   44.0   43.0   66.0   48.0   \n",
       "2018-03-01 19:00:00          45    19          3   73.0   44.0   43.0   66.0   \n",
       "2018-03-01 20:00:00          61    20          3   45.0   73.0   44.0   43.0   \n",
       "2018-03-01 21:00:00          66    21          3   61.0   45.0   73.0   44.0   \n",
       "2018-03-01 22:00:00         113    22          3   66.0   61.0   45.0   73.0   \n",
       "2018-03-01 23:00:00          58    23          3  113.0   66.0   61.0   45.0   \n",
       "2018-03-02 00:00:00          90     0          4   58.0  113.0   66.0   61.0   \n",
       "2018-03-02 01:00:00         120     1          4   90.0   58.0  113.0   66.0   \n",
       "2018-03-02 02:00:00          75     2          4  120.0   90.0   58.0  113.0   \n",
       "2018-03-02 03:00:00          64     3          4   75.0  120.0   90.0   58.0   \n",
       "2018-03-02 04:00:00          20     4          4   64.0   75.0  120.0   90.0   \n",
       "2018-03-02 05:00:00          11     5          4   20.0   64.0   75.0  120.0   \n",
       "\n",
       "                     rolling_mean  \n",
       "datetime                           \n",
       "2018-03-01 00:00:00           NaN  \n",
       "2018-03-01 01:00:00           NaN  \n",
       "2018-03-01 02:00:00           NaN  \n",
       "2018-03-01 03:00:00           NaN  \n",
       "2018-03-01 04:00:00           NaN  \n",
       "2018-03-01 05:00:00           NaN  \n",
       "2018-03-01 06:00:00           NaN  \n",
       "2018-03-01 07:00:00           NaN  \n",
       "2018-03-01 08:00:00           NaN  \n",
       "2018-03-01 09:00:00           NaN  \n",
       "2018-03-01 10:00:00           NaN  \n",
       "2018-03-01 11:00:00           NaN  \n",
       "2018-03-01 12:00:00           NaN  \n",
       "2018-03-01 13:00:00           NaN  \n",
       "2018-03-01 14:00:00           NaN  \n",
       "2018-03-01 15:00:00           NaN  \n",
       "2018-03-01 16:00:00           NaN  \n",
       "2018-03-01 17:00:00           NaN  \n",
       "2018-03-01 18:00:00           NaN  \n",
       "2018-03-01 19:00:00           NaN  \n",
       "2018-03-01 20:00:00           NaN  \n",
       "2018-03-01 21:00:00           NaN  \n",
       "2018-03-01 22:00:00           NaN  \n",
       "2018-03-01 23:00:00           NaN  \n",
       "2018-03-02 00:00:00     56.833333  \n",
       "2018-03-02 01:00:00     55.416667  \n",
       "2018-03-02 02:00:00     56.875000  \n",
       "2018-03-02 03:00:00     57.041667  \n",
       "2018-03-02 04:00:00     56.958333  \n",
       "2018-03-02 05:00:00     56.000000  "
      ]
     },
     "execution_count": 11,
     "metadata": {},
     "output_type": "execute_result"
    }
   ],
   "source": [
    "# добавим выбранные признаки\n",
    "make_features(df, 4, 24)\n",
    "df.head(30)"
   ]
  },
  {
   "cell_type": "code",
   "execution_count": 12,
   "metadata": {},
   "outputs": [],
   "source": [
    "# разделим на выборки в соотношении 90% : 10% / train : test\n",
    "train, test = train_test_split(df, shuffle=False, test_size=0.1, random_state=12345)\n",
    "train = train.dropna()"
   ]
  },
  {
   "cell_type": "code",
   "execution_count": 13,
   "metadata": {},
   "outputs": [
    {
     "data": {
      "text/plain": [
       "(3950, 7)"
      ]
     },
     "metadata": {},
     "output_type": "display_data"
    },
    {
     "data": {
      "text/plain": [
       "(442, 7)"
      ]
     },
     "metadata": {},
     "output_type": "display_data"
    }
   ],
   "source": [
    "# делим выборки на фичи и целевой признак\n",
    "\n",
    "features_train = train.drop(['num_orders'],axis = 1) \n",
    "target_train = train['num_orders'] \n",
    " \n",
    "features_test = test.drop(['num_orders'],axis = 1) \n",
    "target_test = test['num_orders'] \n",
    "\n",
    "display(features_train.shape)\n",
    "display(features_test.shape)"
   ]
  },
  {
   "cell_type": "markdown",
   "metadata": {},
   "source": [
    "## Обучение моделей"
   ]
  },
  {
   "cell_type": "code",
   "execution_count": 14,
   "metadata": {},
   "outputs": [],
   "source": [
    "# определим 'randome_state'\n",
    "STATE = 12345\n",
    "# создадим список для словарей с результатами\n",
    "scores = []"
   ]
  },
  {
   "cell_type": "markdown",
   "metadata": {},
   "source": [
    "### Функции"
   ]
  },
  {
   "cell_type": "code",
   "execution_count": 15,
   "metadata": {},
   "outputs": [],
   "source": [
    "# Функция печати результата работы модели\n",
    "def print_result(result, params=0):\n",
    "    '''\n",
    "    Функция выводит на печать результаты работы модели\n",
    "       - result - словарь(имя модели, время обучения, Время предсказания, RMSE)\n",
    "       - params - гиперпараметры модели\n",
    "    '''\n",
    "    print('-' * 100)\n",
    "    print(f'Для модели {result[\"model\"]}')\n",
    "    print(f'Гиперпараметры: {params}')\n",
    "    print(f'RMSE = {result[\"rmse\"]:.0f}')\n",
    "    print(f'Время обучения: {result[\"learning_time\"]:0.1f} секунд')\n",
    "    print('-' * 100)"
   ]
  },
  {
   "cell_type": "code",
   "execution_count": 16,
   "metadata": {},
   "outputs": [],
   "source": [
    "# Функция объединения результатов обучения разных моделей\n",
    "def union_results(scores):\n",
    "    '''\n",
    "    Функция для объединения результатов обучения разных моделей\n",
    "    scores - список словарей results с результатами обучения на выходе функций с моделями\n",
    "    '''\n",
    "    # словарь с готовыми ключами и пустыми списками в нем\n",
    "    results = {i: [] for i in scores[0].keys()}\n",
    "\n",
    "    # собираем все результаты в словарь 'results'\n",
    "    for result in scores:\n",
    "        for key, value in result.items():\n",
    "            results[key].append(value)\n",
    "\n",
    "        # собираем результаты в таблицу\n",
    "    results = pd.DataFrame(results)\n",
    "    return results"
   ]
  },
  {
   "cell_type": "code",
   "execution_count": 17,
   "metadata": {},
   "outputs": [],
   "source": [
    "# функция подбора гиперпараметров OPTUNA\n",
    "def optuna_hyper(name, objective):\n",
    "    '''\n",
    "    На вход:\n",
    "        name - название модели, например name=RandomForestRegressor\n",
    "        objective - имя функции нужных входных параметров, например objective=objective_dtr\n",
    "    '''\n",
    "    # t0 - время начало отсчета\n",
    "    t0 = time.perf_counter()\n",
    "\n",
    "    num_trials = 10  # можно стандартные 10 выставить\n",
    "\n",
    "    study = optuna.create_study(study_name=name, direction='maximize')\n",
    "    study.optimize(objective, n_trials=num_trials)  # , timeout=400)\n",
    "\n",
    "    # Печать лучших параметров и метрики\n",
    "    print(f'best params: {study.best_params}')\n",
    "    print('RMSE = {:.0f}'.format(-study.best_value))\n",
    "\n",
    "    # Печать времени подбора параметров\n",
    "    print(f'elapsed time: {time.perf_counter() - t0:0.1f}s')\n",
    "\n",
    "    return study.best_params"
   ]
  },
  {
   "cell_type": "markdown",
   "metadata": {},
   "source": [
    "### Линейная регрессия"
   ]
  },
  {
   "cell_type": "code",
   "execution_count": 18,
   "metadata": {},
   "outputs": [],
   "source": [
    "# функция LinearRegression\n",
    "\n",
    "def model_linear_regression(features_train, features_test, target_train, target_test):\n",
    "    t0 = time.perf_counter()\n",
    "    model = LinearRegression().fit(features_train, target_train)\n",
    "    t1 = time.perf_counter()\n",
    "    prediction = model.predict(features_test)\n",
    "    rmse = mean_squared_error(target_test, prediction, squared=False)\n",
    "\n",
    "    # Сбор результатов в словарь\n",
    "    result = {'model': 'LinearRegression',\n",
    "              'learning_time': t1-t0, 'rmse': rmse}\n",
    "    # Печать результатов\n",
    "    print_result(result)\n",
    "    return result, prediction"
   ]
  },
  {
   "cell_type": "markdown",
   "metadata": {},
   "source": [
    "### Дерево решений"
   ]
  },
  {
   "cell_type": "code",
   "execution_count": 19,
   "metadata": {},
   "outputs": [],
   "source": [
    "# функция DecisionTreeRegressor\n",
    "\n",
    "def model_decision_tree(features_train, features_test, target_train, target_test, params):\n",
    "    \"\"\"\n",
    "    На выходе функция выдает RMSE модели и предсказания.\n",
    "    \"\"\"\n",
    "    t0 = time.perf_counter()\n",
    "    model = DecisionTreeRegressor(**params, random_state=STATE)\n",
    "    model.fit(features_train, target_train)\n",
    "    t1 = time.perf_counter()\n",
    "    prediction = model.predict(features_test)\n",
    "    rmse = mean_squared_error(target_test, prediction, squared=False)\n",
    "\n",
    "    # Сбор результатов в словарь\n",
    "    result = {'model': 'DecisionTreeRegressor',\n",
    "              'learning_time': t1-t0, 'rmse': rmse}\n",
    "    # Печать результатов\n",
    "    print_result(result, params)\n",
    "    return result, prediction"
   ]
  },
  {
   "cell_type": "code",
   "execution_count": 20,
   "metadata": {},
   "outputs": [],
   "source": [
    "# функция DecisionTreeRegressor objective для OPTUNA\n",
    "\n",
    "def objective_dtr(trial):\n",
    "    '''\n",
    "    DecisionTreeRegressor objective for OPTUNA\n",
    "    '''\n",
    "    param = {\n",
    "        'max_depth': trial.suggest_int(\"max_depth\", 1, 40),\n",
    "        'min_samples_split': trial.suggest_int(\"min_samples_split\", 2, 50),\n",
    "        'min_samples_leaf': trial.suggest_int(\"min_samples_leaf\", 2, 50),\n",
    "        # 'max_features': trial.suggest_categorical(\"max_features\", [\"auto\", \"sqrt\"]),\n",
    "        'random_state': STATE\n",
    "    }\n",
    "\n",
    "    clf = DecisionTreeRegressor(**param)\n",
    "    tscv = TimeSeriesSplit(n_splits=3)  # Кросс-валидатор для временных рядов\n",
    "\n",
    "    return cross_val_score(clf, features_train, target_train, n_jobs=-1, cv=tscv,\n",
    "                           scoring='neg_root_mean_squared_error').mean()"
   ]
  },
  {
   "cell_type": "code",
   "execution_count": 21,
   "metadata": {},
   "outputs": [
    {
     "name": "stderr",
     "output_type": "stream",
     "text": [
      "\u001b[32m[I 2022-06-14 11:30:32,360]\u001b[0m A new study created in memory with name: <class 'sklearn.tree._classes.DecisionTreeRegressor'>\u001b[0m\n",
      "\u001b[32m[I 2022-06-14 11:30:32,389]\u001b[0m Trial 0 finished with value: -30.721767433852335 and parameters: {'max_depth': 26, 'min_samples_split': 47, 'min_samples_leaf': 30}. Best is trial 0 with value: -30.721767433852335.\u001b[0m\n",
      "\u001b[32m[I 2022-06-14 11:30:32,416]\u001b[0m Trial 1 finished with value: -30.738573677638914 and parameters: {'max_depth': 37, 'min_samples_split': 13, 'min_samples_leaf': 32}. Best is trial 0 with value: -30.721767433852335.\u001b[0m\n",
      "\u001b[32m[I 2022-06-14 11:30:32,437]\u001b[0m Trial 2 finished with value: -34.60266711336106 and parameters: {'max_depth': 3, 'min_samples_split': 14, 'min_samples_leaf': 19}. Best is trial 0 with value: -30.721767433852335.\u001b[0m\n",
      "\u001b[32m[I 2022-06-14 11:30:32,453]\u001b[0m Trial 3 finished with value: -38.02039196363996 and parameters: {'max_depth': 1, 'min_samples_split': 48, 'min_samples_leaf': 23}. Best is trial 0 with value: -30.721767433852335.\u001b[0m\n",
      "\u001b[32m[I 2022-06-14 11:30:32,492]\u001b[0m Trial 4 finished with value: -29.943501639601276 and parameters: {'max_depth': 17, 'min_samples_split': 4, 'min_samples_leaf': 11}. Best is trial 4 with value: -29.943501639601276.\u001b[0m\n",
      "\u001b[32m[I 2022-06-14 11:30:32,518]\u001b[0m Trial 5 finished with value: -30.860555958939234 and parameters: {'max_depth': 36, 'min_samples_split': 12, 'min_samples_leaf': 37}. Best is trial 4 with value: -29.943501639601276.\u001b[0m\n",
      "\u001b[32m[I 2022-06-14 11:30:32,547]\u001b[0m Trial 6 finished with value: -30.187303919390132 and parameters: {'max_depth': 9, 'min_samples_split': 36, 'min_samples_leaf': 9}. Best is trial 4 with value: -29.943501639601276.\u001b[0m\n",
      "\u001b[32m[I 2022-06-14 11:30:32,574]\u001b[0m Trial 7 finished with value: -30.369256255867963 and parameters: {'max_depth': 16, 'min_samples_split': 39, 'min_samples_leaf': 23}. Best is trial 4 with value: -29.943501639601276.\u001b[0m\n",
      "\u001b[32m[I 2022-06-14 11:30:32,603]\u001b[0m Trial 8 finished with value: -30.353574113987047 and parameters: {'max_depth': 35, 'min_samples_split': 50, 'min_samples_leaf': 21}. Best is trial 4 with value: -29.943501639601276.\u001b[0m\n",
      "\u001b[32m[I 2022-06-14 11:30:32,629]\u001b[0m Trial 9 finished with value: -30.77432772746503 and parameters: {'max_depth': 31, 'min_samples_split': 43, 'min_samples_leaf': 35}. Best is trial 4 with value: -29.943501639601276.\u001b[0m\n"
     ]
    },
    {
     "name": "stdout",
     "output_type": "stream",
     "text": [
      "best params: {'max_depth': 17, 'min_samples_split': 4, 'min_samples_leaf': 11}\n",
      "RMSE = 30\n",
      "elapsed time: 0.3s\n"
     ]
    },
    {
     "data": {
      "text/plain": [
       "{'max_depth': 17, 'min_samples_split': 4, 'min_samples_leaf': 11}"
      ]
     },
     "metadata": {},
     "output_type": "display_data"
    },
    {
     "name": "stdout",
     "output_type": "stream",
     "text": [
      "CPU times: user 254 ms, sys: 10.6 ms, total: 264 ms\n",
      "Wall time: 271 ms\n"
     ]
    }
   ],
   "source": [
    "%%time\n",
    "# подбираем гиперпараметры DecisionTreeRegressor через OPTUNA\n",
    "\n",
    "opt_dtr = optuna_hyper(DecisionTreeRegressor, objective_dtr)\n",
    "display(opt_dtr)"
   ]
  },
  {
   "cell_type": "markdown",
   "metadata": {},
   "source": [
    "### Случайный лес "
   ]
  },
  {
   "cell_type": "code",
   "execution_count": 22,
   "metadata": {},
   "outputs": [],
   "source": [
    "# функция RandomForestRegressor\n",
    "\n",
    "def model_random_forest(features_train, features_test, target_train, target_test, params):\n",
    "    t0 = time.perf_counter()\n",
    "    model = RandomForestRegressor(**params, random_state=STATE)\n",
    "    model.fit(features_train, target_train)\n",
    "    t1 = time.perf_counter()\n",
    "    prediction = model.predict(features_test)\n",
    "    rmse = mean_squared_error(target_test, prediction, squared=False)\n",
    "\n",
    "    # Сбор результатов в словарь\n",
    "    result = {'model': 'RandomForestRegressor',\n",
    "              'learning_time': t1-t0, 'rmse': rmse}\n",
    "    # Печать результатов\n",
    "    print_result(result, params)\n",
    "    return result, prediction"
   ]
  },
  {
   "cell_type": "code",
   "execution_count": 23,
   "metadata": {},
   "outputs": [],
   "source": [
    "# функция RandomForestRegressor objective для OPTUNA\n",
    "\n",
    "def objective_rfr(trial):\n",
    "    param = {\n",
    "        'n_estimators': trial.suggest_int(\"n_estimators\", 30, 70),\n",
    "        'max_depth': trial.suggest_int(\"max_depth\", 20, 55),\n",
    "        'min_samples_split': trial.suggest_int(\"min_samples_split\", 2, 50),\n",
    "        'min_samples_leaf': trial.suggest_int(\"min_samples_leaf\", 2, 50),\n",
    "#        'max_features': trial.suggest_categorical(\"max_features\", [\"auto\", \"sqrt\"]),\n",
    "#        'bootstrap': True,\n",
    "        'random_state': STATE\n",
    "    }\n",
    "\n",
    "    clf = RandomForestRegressor(**param)\n",
    "    tscv = TimeSeriesSplit(n_splits=3)  # Кросс-валидатор для временных рядов\n",
    "\n",
    "    return cross_val_score(clf, features_train, target_train, n_jobs=-1, cv=tscv,\n",
    "                           scoring='neg_root_mean_squared_error').mean()"
   ]
  },
  {
   "cell_type": "code",
   "execution_count": 24,
   "metadata": {},
   "outputs": [
    {
     "name": "stderr",
     "output_type": "stream",
     "text": [
      "\u001b[32m[I 2022-06-14 11:30:32,684]\u001b[0m A new study created in memory with name: <class 'sklearn.ensemble._forest.RandomForestRegressor'>\u001b[0m\n",
      "\u001b[32m[I 2022-06-14 11:30:33,076]\u001b[0m Trial 0 finished with value: -31.339762625065372 and parameters: {'n_estimators': 38, 'max_depth': 48, 'min_samples_split': 19, 'min_samples_leaf': 44}. Best is trial 0 with value: -31.339762625065372.\u001b[0m\n",
      "\u001b[32m[I 2022-06-14 11:30:33,702]\u001b[0m Trial 1 finished with value: -28.215635511065432 and parameters: {'n_estimators': 48, 'max_depth': 32, 'min_samples_split': 21, 'min_samples_leaf': 7}. Best is trial 1 with value: -28.215635511065432.\u001b[0m\n",
      "\u001b[32m[I 2022-06-14 11:30:34,406]\u001b[0m Trial 2 finished with value: -29.089343937740583 and parameters: {'n_estimators': 64, 'max_depth': 54, 'min_samples_split': 50, 'min_samples_leaf': 5}. Best is trial 1 with value: -28.215635511065432.\u001b[0m\n",
      "\u001b[32m[I 2022-06-14 11:30:35,048]\u001b[0m Trial 3 finished with value: -29.51445562822269 and parameters: {'n_estimators': 55, 'max_depth': 23, 'min_samples_split': 30, 'min_samples_leaf': 22}. Best is trial 1 with value: -28.215635511065432.\u001b[0m\n",
      "\u001b[32m[I 2022-06-14 11:30:35,543]\u001b[0m Trial 4 finished with value: -30.045449381115503 and parameters: {'n_estimators': 48, 'max_depth': 31, 'min_samples_split': 36, 'min_samples_leaf': 27}. Best is trial 1 with value: -28.215635511065432.\u001b[0m\n",
      "\u001b[32m[I 2022-06-14 11:30:36,101]\u001b[0m Trial 5 finished with value: -28.374052024047273 and parameters: {'n_estimators': 43, 'max_depth': 31, 'min_samples_split': 2, 'min_samples_leaf': 11}. Best is trial 1 with value: -28.215635511065432.\u001b[0m\n",
      "\u001b[32m[I 2022-06-14 11:30:36,796]\u001b[0m Trial 6 finished with value: -28.14012335506815 and parameters: {'n_estimators': 56, 'max_depth': 33, 'min_samples_split': 6, 'min_samples_leaf': 8}. Best is trial 6 with value: -28.14012335506815.\u001b[0m\n",
      "\u001b[32m[I 2022-06-14 11:30:37,437]\u001b[0m Trial 7 finished with value: -30.84550794166755 and parameters: {'n_estimators': 70, 'max_depth': 25, 'min_samples_split': 28, 'min_samples_leaf': 37}. Best is trial 6 with value: -28.14012335506815.\u001b[0m\n",
      "\u001b[32m[I 2022-06-14 11:30:38,022]\u001b[0m Trial 8 finished with value: -31.23085966825469 and parameters: {'n_estimators': 56, 'max_depth': 36, 'min_samples_split': 2, 'min_samples_leaf': 40}. Best is trial 6 with value: -28.14012335506815.\u001b[0m\n",
      "\u001b[32m[I 2022-06-14 11:30:38,613]\u001b[0m Trial 9 finished with value: -28.651570008630898 and parameters: {'n_estimators': 51, 'max_depth': 40, 'min_samples_split': 12, 'min_samples_leaf': 15}. Best is trial 6 with value: -28.14012335506815.\u001b[0m\n"
     ]
    },
    {
     "name": "stdout",
     "output_type": "stream",
     "text": [
      "best params: {'n_estimators': 56, 'max_depth': 33, 'min_samples_split': 6, 'min_samples_leaf': 8}\n",
      "RMSE = 28\n",
      "elapsed time: 5.9s\n"
     ]
    },
    {
     "data": {
      "text/plain": [
       "{'n_estimators': 56,\n",
       " 'max_depth': 33,\n",
       " 'min_samples_split': 6,\n",
       " 'min_samples_leaf': 8}"
      ]
     },
     "metadata": {},
     "output_type": "display_data"
    },
    {
     "name": "stdout",
     "output_type": "stream",
     "text": [
      "CPU times: user 5.87 s, sys: 39.7 ms, total: 5.91 s\n",
      "Wall time: 5.93 s\n"
     ]
    }
   ],
   "source": [
    "%%time\n",
    "# подбираем гиперпараметры RandomForestRegressor через OPTUNA\n",
    "\n",
    "opt_rfr = optuna_hyper(RandomForestRegressor, objective_rfr)\n",
    "display(opt_rfr)"
   ]
  },
  {
   "cell_type": "markdown",
   "metadata": {},
   "source": [
    "### Модель LGBMRegressor"
   ]
  },
  {
   "cell_type": "code",
   "execution_count": 25,
   "metadata": {},
   "outputs": [],
   "source": [
    "# функция LGBMRegressor\n",
    "def model_lgbm_regressor(features_train, features_test, target_train, target_test, params):\n",
    "    \"\"\"\n",
    "    На выходе функция выдает RMSE модели и предсказания.\n",
    "    \"\"\"\n",
    "    t0 = time.perf_counter()\n",
    "    model = LGBMRegressor(**params, random_state=STATE)\n",
    "    model.fit(features_train, target_train)\n",
    "    t1 = time.perf_counter()\n",
    "    prediction = model.predict(features_test)\n",
    "    rmse = mean_squared_error(target_test, prediction, squared=False)\n",
    "\n",
    "    # Сбор результатов в словарь\n",
    "    result = {'model': 'LGBMRegressor', 'learning_time': t1-t0, 'rmse': rmse}\n",
    "    # Печать результатов\n",
    "    print_result(result, params)\n",
    "\n",
    "    return result, prediction"
   ]
  },
  {
   "cell_type": "code",
   "execution_count": 26,
   "metadata": {},
   "outputs": [],
   "source": [
    "# функция LGBMRegressor objective for OPTUNA\n",
    "def objective_lgbmr(trial):\n",
    "    '''\n",
    "    LGBMRegressor objective for OPTUNA\n",
    "    '''\n",
    "    param = {\n",
    "        'n_estimators': trial.suggest_int(\"n_estimators\", 5, 300),\n",
    "        'learning_rate': trial.suggest_float(\"learning_rate\", 0.01, 1.0),\n",
    "        'max_depth': trial.suggest_int(\"max_depth\", 1, 21),\n",
    "        'random_state': STATE\n",
    "    }\n",
    "\n",
    "    clf = LGBMRegressor(**param)\n",
    "    tscv = TimeSeriesSplit(n_splits=3)  # Кросс-валидатор для временных рядов\n",
    "\n",
    "    return cross_val_score(clf, features_train, target_train, n_jobs=-1, cv=tscv,\n",
    "                           scoring='neg_root_mean_squared_error').mean()"
   ]
  },
  {
   "cell_type": "code",
   "execution_count": null,
   "metadata": {},
   "outputs": [
    {
     "name": "stderr",
     "output_type": "stream",
     "text": [
      "\u001b[32m[I 2022-06-14 11:30:38,641]\u001b[0m A new study created in memory with name: <class 'lightgbm.sklearn.LGBMRegressor'>\u001b[0m\n"
     ]
    }
   ],
   "source": [
    "%%time\n",
    "# подбираем гиперпараметры LGBMRegressor через OPTUNA\n",
    "\n",
    "opt_lgbmr = optuna_hyper(LGBMRegressor, objective_lgbmr)"
   ]
  },
  {
   "cell_type": "markdown",
   "metadata": {},
   "source": [
    "### Модель CatBoostRegressor"
   ]
  },
  {
   "cell_type": "code",
   "execution_count": null,
   "metadata": {},
   "outputs": [],
   "source": [
    "# функция подбора гиперпараметров OPTUNA для CatBoostRegressor\n",
    "def optuna_hyper(name, objective):\n",
    "    '''\n",
    "    На вход:\n",
    "        name - название модели, например name=RandomForestRegressor\n",
    "        objective - имя функции нужных входных параметров, например objective=objective_dtr\n",
    "    '''\n",
    "    # t0 - время начало отсчета\n",
    "    t0 = time.perf_counter()\n",
    "\n",
    "    num_trials = 5  # изменяем, так как по скорости CatBoostRegressor после 5-6 очень долго прогоняет тесты\n",
    "\n",
    "    study = optuna.create_study(study_name=name, direction='maximize')\n",
    "    study.optimize(objective, n_trials=num_trials)  # , timeout=400)\n",
    "\n",
    "    # Печать лучших параметров и метрики\n",
    "    print(f'best params: {study.best_params}')\n",
    "    print('RMSE = {:.0f}'.format(-study.best_value))\n",
    "\n",
    "    # Печать времени подбора параметров\n",
    "    print(f'elapsed time: {time.perf_counter() - t0:0.1f}s')\n",
    "\n",
    "    return study.best_params"
   ]
  },
  {
   "cell_type": "code",
   "execution_count": null,
   "metadata": {},
   "outputs": [],
   "source": [
    "# функция CatBoostRegressor\n",
    "def model_catboost_regressor(features_train, features_test,\n",
    "                             target_train, target_test, params, cat_features=None):\n",
    "    \"\"\"\n",
    "    На выходе функция выдает RMSE модели и предсказания.\n",
    "    \"\"\"\n",
    "    t0 = time.perf_counter()\n",
    "    model = CatBoostRegressor(\n",
    "        **params, cat_features=cat_features, loss_function='RMSE', random_state=STATE)\n",
    "    model.fit(features_train, target_train)#, verbose=10)\n",
    "    t1 = time.perf_counter()\n",
    "    prediction = model.predict(features_test)\n",
    "    rmse = mean_squared_error(target_test, prediction, squared=False)\n",
    "\n",
    "    # Сбор результатов в словарь\n",
    "    result = {'model': 'CatBoostRegressor',\n",
    "              'learning_time': t1-t0, 'rmse': rmse}\n",
    "    # Печать результатов\n",
    "    print_result(result, params)\n",
    "\n",
    "    return result, prediction"
   ]
  },
  {
   "cell_type": "code",
   "execution_count": null,
   "metadata": {},
   "outputs": [],
   "source": [
    "# функция CatBoostRegressor objective для OPTUNA\n",
    "def objective_cbr(trial):\n",
    "    '''\n",
    "    CatBoostRegressor objective for OPTUNA\n",
    "    '''\n",
    "    param = {\n",
    "        'iterations': trial.suggest_int(\"iterations\", 10, 150),\n",
    "        'learning_rate': trial.suggest_float(\"learning_rate\", 0.01, 0.06),\n",
    "        'depth': trial.suggest_int(\"depth\", 1, 16),\n",
    "#        'l2_leaf_reg': trial.suggest_int(\"l2_leaf_reg\", 2, 30),\n",
    "#        'eval_metric': \"RMSE\",\n",
    "#        'cat_features': cat_features\n",
    "    }\n",
    "\n",
    "    clf = CatBoostRegressor(**param)\n",
    "    tscv = TimeSeriesSplit(n_splits=3)  # Кросс-валидатор для временных рядов\n",
    "\n",
    "    return cross_val_score(clf, features_train, target_train, n_jobs=-1, cv=tscv,\n",
    "                           scoring='neg_root_mean_squared_error').mean()"
   ]
  },
  {
   "cell_type": "code",
   "execution_count": null,
   "metadata": {
    "scrolled": true
   },
   "outputs": [],
   "source": [
    "%%time\n",
    "# подбираем гиперпараметры CatBoostRegressor через OPTUNA\n",
    "\n",
    "opt_cbr = optuna_hyper(CatBoostRegressor, objective_cbr)"
   ]
  },
  {
   "cell_type": "markdown",
   "metadata": {},
   "source": [
    "###  Вывод:\n",
    "Выбрано и обучено пять моделей: LinearRegression, DecisionTreeRegressor, RandomForestRegressor, LGBMRegressor, CatBoostRegressor. "
   ]
  },
  {
   "cell_type": "markdown",
   "metadata": {},
   "source": [
    "## Тестирование\n",
    "Прогоняем данные по всем моделям. Смотрим на результаты RMSE на тестовой выборке. "
   ]
  },
  {
   "cell_type": "code",
   "execution_count": null,
   "metadata": {},
   "outputs": [],
   "source": [
    "%%time\n",
    "# вызов функции LinearRegression\n",
    "scores_LR = model_linear_regression(\n",
    "    features_train, features_test, target_train, target_test)\n",
    "# добавление словаря в список \"scores\"\n",
    "scores.append(scores_LR[0])\n",
    "display(scores_LR[0])\n",
    "plt.figure(figsize=(16, 8))\n",
    "plt.scatter(y=target_test, x=target_test.index)\n",
    "plt.scatter(y=scores_LR[1], x=target_test.index)"
   ]
  },
  {
   "cell_type": "code",
   "execution_count": null,
   "metadata": {},
   "outputs": [],
   "source": [
    "plt.figure(figsize=(16, 8))\n",
    "plt.xlim(pd.Timestamp('2018-08-15'), pd.Timestamp('2018-08-18'))\n",
    "plt.title('Результаты модели, 2 дня', fontsize=16)\n",
    "plt.xlabel('Дата, время', fontsize=16)\n",
    "plt.ylabel('Число заказов', fontsize=16)\n",
    "plt.plot(target_test.index, target_test)\n",
    "plt.plot(target_test.index, scores_LR[1])\n",
    "plt.legend(['реальные', 'предсказанные'], loc='upper right', fontsize=12)"
   ]
  },
  {
   "cell_type": "code",
   "execution_count": null,
   "metadata": {},
   "outputs": [],
   "source": [
    "%%time\n",
    "# вызов функции DecisionTreeRegressor\n",
    "\n",
    "scores_DTR = model_decision_tree(features_train, features_test, target_train,\n",
    "                                 target_test, params=opt_dtr)\n",
    "# добавление словаря в список \"scores\"\n",
    "scores.append(scores_DTR[0])\n",
    "display(scores_DTR[0])\n",
    "plt.figure(figsize=(16, 8))\n",
    "plt.scatter(y=target_test, x=target_test.index)\n",
    "plt.scatter(y=scores_DTR[1], x=target_test.index)"
   ]
  },
  {
   "cell_type": "code",
   "execution_count": null,
   "metadata": {},
   "outputs": [],
   "source": [
    "plt.figure(figsize=(16, 8))\n",
    "plt.xlim(pd.Timestamp('2018-08-15'), pd.Timestamp('2018-08-18'))\n",
    "plt.title('Результаты модели, 2 дня', fontsize=16)\n",
    "plt.xlabel('Дата, время', fontsize=16)\n",
    "plt.ylabel('Число заказов', fontsize=16)\n",
    "plt.plot(target_test.index, target_test)\n",
    "plt.plot(target_test.index, scores_DTR[1])\n",
    "plt.legend(['реальные', 'предсказанные'], loc='upper right', fontsize=12)"
   ]
  },
  {
   "cell_type": "code",
   "execution_count": null,
   "metadata": {},
   "outputs": [],
   "source": [
    "%%time\n",
    "# вызов функции RandomForestRegressor()\n",
    "scores_RFR = model_random_forest(features_train, features_test,\n",
    "                                 target_train, target_test, params=opt_rfr)\n",
    "# добавление словаря в список \"scores\"\n",
    "scores.append(scores_RFR[0])\n",
    "display(scores_RFR[0])\n",
    "plt.figure(figsize=(16, 8))\n",
    "plt.scatter(y=target_test, x=target_test.index)\n",
    "plt.scatter(y=scores_RFR[1], x=target_test.index)"
   ]
  },
  {
   "cell_type": "code",
   "execution_count": null,
   "metadata": {},
   "outputs": [],
   "source": [
    "plt.figure(figsize=(16, 8))\n",
    "plt.xlim(pd.Timestamp('2018-08-15'), pd.Timestamp('2018-08-18'))\n",
    "plt.title('Результаты модели, 2 дня', fontsize=16)\n",
    "plt.xlabel('Дата, время', fontsize=16)\n",
    "plt.ylabel('Число заказов', fontsize=16)\n",
    "plt.plot(target_test.index, target_test)\n",
    "plt.plot(target_test.index, scores_RFR[1])\n",
    "plt.legend(['реальные', 'предсказанные'], loc='upper right', fontsize=12)"
   ]
  },
  {
   "cell_type": "code",
   "execution_count": null,
   "metadata": {},
   "outputs": [],
   "source": [
    "%%time\n",
    "# вызов функции LGBMRegressor()\n",
    "scores_LGBM = model_lgbm_regressor(features_train, features_test,\n",
    "                                   target_train, target_test, params=opt_lgbmr)\n",
    "# добавление словаря в список \"scores\"\n",
    "scores.append(scores_LGBM[0])\n",
    "scores_LGBM[0]\n",
    "plt.figure(figsize=(16, 8))\n",
    "plt.scatter(y=target_test, x=target_test.index)\n",
    "plt.scatter(y=scores_LGBM[1], x=target_test.index)"
   ]
  },
  {
   "cell_type": "code",
   "execution_count": null,
   "metadata": {},
   "outputs": [],
   "source": [
    "plt.figure(figsize=(16, 8))\n",
    "plt.xlim(pd.Timestamp('2018-08-15'), pd.Timestamp('2018-08-18'))\n",
    "plt.title('Результаты модели, 2 дня', fontsize=16)\n",
    "plt.xlabel('Дата, время', fontsize=16)\n",
    "plt.ylabel('Число заказов', fontsize=16)\n",
    "plt.plot(target_test.index, target_test)\n",
    "plt.plot(target_test.index, scores_LGBM[1])\n",
    "plt.legend(['реальные', 'предсказанные'], loc='upper right', fontsize=12)"
   ]
  },
  {
   "cell_type": "code",
   "execution_count": null,
   "metadata": {},
   "outputs": [],
   "source": [
    "%%time\n",
    "# вызов функции CatBoostRegressor\n",
    "\n",
    "scores_cbr = model_catboost_regressor(\n",
    "    features_train, features_test, target_train, target_test,\n",
    "    params=opt_cbr, cat_features=None)\n",
    "# добавление словаря в список \"scores\"\n",
    "scores.append(scores_cbr[0])\n",
    "display(scores_cbr[0])"
   ]
  },
  {
   "cell_type": "code",
   "execution_count": null,
   "metadata": {},
   "outputs": [],
   "source": [
    "plt.figure(figsize=(16, 8))\n",
    "plt.scatter(y=target_test, x=target_test.index)\n",
    "plt.scatter(y=scores_cbr[1], x=target_test.index)"
   ]
  },
  {
   "cell_type": "code",
   "execution_count": null,
   "metadata": {},
   "outputs": [],
   "source": [
    "plt.figure(figsize=(16, 8))\n",
    "plt.xlim(pd.Timestamp('2018-08-15'), pd.Timestamp('2018-08-18'))\n",
    "plt.title('Результаты модели, 2 дня', fontsize=16)\n",
    "plt.xlabel('Дата, время', fontsize=16)\n",
    "plt.ylabel('Число заказов', fontsize=16)\n",
    "plt.plot(target_test.index, target_test)\n",
    "plt.plot(target_test.index, scores_cbr[1])\n",
    "plt.legend(['реальные', 'предсказанные'], loc='upper right', fontsize=12)"
   ]
  },
  {
   "cell_type": "markdown",
   "metadata": {},
   "source": [
    "### Сравнение"
   ]
  },
  {
   "cell_type": "code",
   "execution_count": null,
   "metadata": {},
   "outputs": [],
   "source": [
    "union_results(scores)"
   ]
  },
  {
   "cell_type": "markdown",
   "metadata": {},
   "source": [
    "###  Вывод:\n",
    "По скорости обучения и по минимальному значению RMSE выбор остается в пользу модели LGBMRegressor. При этом все рассмотренные модели показывают небольшое значение отклонения предсказаний от истиных значений. RMSE между 7.5 и 8.5."
   ]
  }
 ],
 "metadata": {
  "ExecuteTimeLog": [
   {
    "duration": 1473,
    "start_time": "2022-06-11T01:07:31.728Z"
   },
   {
    "duration": 0,
    "start_time": "2022-06-11T01:07:33.202Z"
   },
   {
    "duration": 4894,
    "start_time": "2022-06-11T01:07:50.240Z"
   },
   {
    "duration": 1632,
    "start_time": "2022-06-11T01:07:55.136Z"
   },
   {
    "duration": 1099,
    "start_time": "2022-06-11T01:07:56.769Z"
   },
   {
    "duration": 2063,
    "start_time": "2022-06-11T01:08:10.454Z"
   },
   {
    "duration": 1633,
    "start_time": "2022-06-11T01:08:12.519Z"
   },
   {
    "duration": 6,
    "start_time": "2022-06-11T01:08:14.154Z"
   },
   {
    "duration": 133,
    "start_time": "2022-06-11T01:08:35.900Z"
   },
   {
    "duration": 15,
    "start_time": "2022-06-11T01:08:42.189Z"
   },
   {
    "duration": 3,
    "start_time": "2022-06-13T21:45:49.566Z"
   },
   {
    "duration": 3,
    "start_time": "2022-06-13T21:45:53.864Z"
   },
   {
    "duration": 1415,
    "start_time": "2022-06-13T21:45:53.873Z"
   },
   {
    "duration": 0,
    "start_time": "2022-06-13T21:45:55.290Z"
   },
   {
    "duration": 0,
    "start_time": "2022-06-13T21:45:55.292Z"
   },
   {
    "duration": 3,
    "start_time": "2022-06-13T21:55:29.747Z"
   },
   {
    "duration": 1336,
    "start_time": "2022-06-13T21:55:29.752Z"
   },
   {
    "duration": 0,
    "start_time": "2022-06-13T21:55:31.090Z"
   },
   {
    "duration": 0,
    "start_time": "2022-06-13T21:55:31.092Z"
   },
   {
    "duration": 0,
    "start_time": "2022-06-13T21:55:31.093Z"
   },
   {
    "duration": 0,
    "start_time": "2022-06-13T21:55:31.095Z"
   },
   {
    "duration": 0,
    "start_time": "2022-06-13T21:55:31.096Z"
   },
   {
    "duration": 0,
    "start_time": "2022-06-13T21:55:31.097Z"
   },
   {
    "duration": 0,
    "start_time": "2022-06-13T21:55:31.098Z"
   },
   {
    "duration": 0,
    "start_time": "2022-06-13T21:55:31.099Z"
   },
   {
    "duration": 0,
    "start_time": "2022-06-13T21:55:31.100Z"
   },
   {
    "duration": 0,
    "start_time": "2022-06-13T21:55:31.127Z"
   },
   {
    "duration": 0,
    "start_time": "2022-06-13T21:55:31.128Z"
   },
   {
    "duration": 0,
    "start_time": "2022-06-13T21:55:31.129Z"
   },
   {
    "duration": 0,
    "start_time": "2022-06-13T21:55:31.130Z"
   },
   {
    "duration": 0,
    "start_time": "2022-06-13T21:55:31.131Z"
   },
   {
    "duration": 0,
    "start_time": "2022-06-13T21:55:31.132Z"
   },
   {
    "duration": 0,
    "start_time": "2022-06-13T21:55:31.132Z"
   },
   {
    "duration": 0,
    "start_time": "2022-06-13T21:55:31.133Z"
   },
   {
    "duration": 0,
    "start_time": "2022-06-13T21:55:31.134Z"
   },
   {
    "duration": 0,
    "start_time": "2022-06-13T21:55:31.135Z"
   },
   {
    "duration": 0,
    "start_time": "2022-06-13T21:55:31.136Z"
   },
   {
    "duration": 0,
    "start_time": "2022-06-13T21:55:31.137Z"
   },
   {
    "duration": 0,
    "start_time": "2022-06-13T21:55:31.138Z"
   },
   {
    "duration": 0,
    "start_time": "2022-06-13T21:55:31.139Z"
   },
   {
    "duration": 0,
    "start_time": "2022-06-13T21:55:31.140Z"
   },
   {
    "duration": 0,
    "start_time": "2022-06-13T21:55:31.141Z"
   },
   {
    "duration": 0,
    "start_time": "2022-06-13T21:55:31.142Z"
   },
   {
    "duration": 0,
    "start_time": "2022-06-13T21:55:31.143Z"
   },
   {
    "duration": 0,
    "start_time": "2022-06-13T21:55:31.144Z"
   },
   {
    "duration": 0,
    "start_time": "2022-06-13T21:55:31.144Z"
   },
   {
    "duration": 0,
    "start_time": "2022-06-13T21:55:31.146Z"
   },
   {
    "duration": 0,
    "start_time": "2022-06-13T21:55:31.146Z"
   },
   {
    "duration": 0,
    "start_time": "2022-06-13T21:55:31.148Z"
   },
   {
    "duration": 0,
    "start_time": "2022-06-13T21:55:31.148Z"
   },
   {
    "duration": 8,
    "start_time": "2022-06-13T21:55:31.194Z"
   },
   {
    "duration": 7897,
    "start_time": "2022-06-13T21:55:54.347Z"
   },
   {
    "duration": 1749,
    "start_time": "2022-06-13T21:56:02.247Z"
   },
   {
    "duration": 193,
    "start_time": "2022-06-13T21:56:03.998Z"
   },
   {
    "duration": 25,
    "start_time": "2022-06-13T21:56:04.193Z"
   },
   {
    "duration": 12,
    "start_time": "2022-06-13T21:56:04.219Z"
   },
   {
    "duration": 4,
    "start_time": "2022-06-13T21:56:04.232Z"
   },
   {
    "duration": 1892,
    "start_time": "2022-06-13T21:56:04.237Z"
   },
   {
    "duration": 1127,
    "start_time": "2022-06-13T21:56:06.131Z"
   },
   {
    "duration": 381,
    "start_time": "2022-06-13T21:56:07.260Z"
   },
   {
    "duration": 3,
    "start_time": "2022-06-13T21:56:07.644Z"
   },
   {
    "duration": 25,
    "start_time": "2022-06-13T21:56:07.649Z"
   },
   {
    "duration": 6,
    "start_time": "2022-06-13T21:56:07.675Z"
   },
   {
    "duration": 7,
    "start_time": "2022-06-13T21:56:07.683Z"
   },
   {
    "duration": 3,
    "start_time": "2022-06-13T21:56:07.691Z"
   },
   {
    "duration": 32,
    "start_time": "2022-06-13T21:56:07.695Z"
   },
   {
    "duration": 7,
    "start_time": "2022-06-13T21:56:07.728Z"
   },
   {
    "duration": 6,
    "start_time": "2022-06-13T21:56:07.737Z"
   },
   {
    "duration": 8,
    "start_time": "2022-06-13T21:56:07.744Z"
   },
   {
    "duration": 5,
    "start_time": "2022-06-13T21:56:07.753Z"
   },
   {
    "duration": 8,
    "start_time": "2022-06-13T21:56:07.759Z"
   },
   {
    "duration": 339,
    "start_time": "2022-06-13T21:56:07.768Z"
   },
   {
    "duration": 3,
    "start_time": "2022-06-13T21:56:08.109Z"
   },
   {
    "duration": 5,
    "start_time": "2022-06-13T21:56:08.126Z"
   },
   {
    "duration": 7033,
    "start_time": "2022-06-13T21:56:08.133Z"
   },
   {
    "duration": 4,
    "start_time": "2022-06-13T21:56:15.167Z"
   },
   {
    "duration": 14,
    "start_time": "2022-06-13T21:56:15.172Z"
   },
   {
    "duration": 32449,
    "start_time": "2022-06-13T21:56:15.187Z"
   },
   {
    "duration": 4,
    "start_time": "2022-06-13T21:56:47.640Z"
   },
   {
    "duration": 18,
    "start_time": "2022-06-13T21:56:47.646Z"
   },
   {
    "duration": 466448,
    "start_time": "2022-06-13T21:56:47.665Z"
   },
   {
    "duration": 384,
    "start_time": "2022-06-13T22:04:34.115Z"
   },
   {
    "duration": 249,
    "start_time": "2022-06-13T22:04:34.501Z"
   },
   {
    "duration": 909,
    "start_time": "2022-06-13T22:04:34.752Z"
   },
   {
    "duration": 4573,
    "start_time": "2022-06-13T22:04:39.666Z"
   },
   {
    "duration": 1831,
    "start_time": "2022-06-13T22:04:44.242Z"
   },
   {
    "duration": 65,
    "start_time": "2022-06-13T22:04:46.126Z"
   },
   {
    "duration": 68,
    "start_time": "2022-06-13T22:04:46.194Z"
   },
   {
    "duration": 62,
    "start_time": "2022-06-13T22:04:46.265Z"
   },
   {
    "duration": 5,
    "start_time": "2022-06-13T22:04:46.330Z"
   },
   {
    "duration": 1414,
    "start_time": "2022-06-13T22:04:46.337Z"
   },
   {
    "duration": 2312,
    "start_time": "2022-06-13T22:04:47.828Z"
   },
   {
    "duration": 821,
    "start_time": "2022-06-13T22:04:50.143Z"
   },
   {
    "duration": 4,
    "start_time": "2022-06-13T22:04:50.966Z"
   },
   {
    "duration": 100,
    "start_time": "2022-06-13T22:04:50.971Z"
   },
   {
    "duration": 64,
    "start_time": "2022-06-13T22:04:51.073Z"
   },
   {
    "duration": 121,
    "start_time": "2022-06-13T22:04:51.139Z"
   },
   {
    "duration": 65,
    "start_time": "2022-06-13T22:04:51.263Z"
   },
   {
    "duration": 29,
    "start_time": "2022-06-13T22:04:51.330Z"
   },
   {
    "duration": 36,
    "start_time": "2022-06-13T22:04:51.360Z"
   },
   {
    "duration": 43,
    "start_time": "2022-06-13T22:04:51.398Z"
   },
   {
    "duration": 23,
    "start_time": "2022-06-13T22:04:51.442Z"
   },
   {
    "duration": 29,
    "start_time": "2022-06-13T22:04:51.467Z"
   },
   {
    "duration": 43,
    "start_time": "2022-06-13T22:04:51.498Z"
   },
   {
    "duration": 731,
    "start_time": "2022-06-13T22:04:51.543Z"
   },
   {
    "duration": 7,
    "start_time": "2022-06-13T22:04:52.329Z"
   },
   {
    "duration": 60,
    "start_time": "2022-06-13T22:04:52.339Z"
   },
   {
    "duration": 8596,
    "start_time": "2022-06-13T22:04:52.400Z"
   },
   {
    "duration": 6,
    "start_time": "2022-06-13T22:05:01.003Z"
   },
   {
    "duration": 65,
    "start_time": "2022-06-13T22:05:01.011Z"
   },
   {
    "duration": 4365,
    "start_time": "2022-06-13T22:08:47.419Z"
   },
   {
    "duration": 1597,
    "start_time": "2022-06-13T22:08:51.787Z"
   },
   {
    "duration": 50,
    "start_time": "2022-06-13T22:08:53.385Z"
   },
   {
    "duration": 25,
    "start_time": "2022-06-13T22:08:53.436Z"
   },
   {
    "duration": 11,
    "start_time": "2022-06-13T22:08:53.463Z"
   },
   {
    "duration": 3,
    "start_time": "2022-06-13T22:08:53.476Z"
   },
   {
    "duration": 2052,
    "start_time": "2022-06-13T22:08:53.480Z"
   },
   {
    "duration": 1044,
    "start_time": "2022-06-13T22:08:55.626Z"
   },
   {
    "duration": 366,
    "start_time": "2022-06-13T22:08:56.672Z"
   },
   {
    "duration": 4,
    "start_time": "2022-06-13T22:08:57.040Z"
   },
   {
    "duration": 28,
    "start_time": "2022-06-13T22:08:57.046Z"
   },
   {
    "duration": 8,
    "start_time": "2022-06-13T22:08:57.076Z"
   },
   {
    "duration": 9,
    "start_time": "2022-06-13T22:08:57.086Z"
   },
   {
    "duration": 28,
    "start_time": "2022-06-13T22:08:57.099Z"
   },
   {
    "duration": 8,
    "start_time": "2022-06-13T22:08:57.129Z"
   },
   {
    "duration": 10,
    "start_time": "2022-06-13T22:08:57.138Z"
   },
   {
    "duration": 22,
    "start_time": "2022-06-13T22:08:57.149Z"
   },
   {
    "duration": 10,
    "start_time": "2022-06-13T22:08:57.173Z"
   },
   {
    "duration": 9,
    "start_time": "2022-06-13T22:08:57.185Z"
   },
   {
    "duration": 14,
    "start_time": "2022-06-13T22:08:57.196Z"
   },
   {
    "duration": 351,
    "start_time": "2022-06-13T22:08:57.211Z"
   },
   {
    "duration": 4,
    "start_time": "2022-06-13T22:08:57.563Z"
   },
   {
    "duration": 11,
    "start_time": "2022-06-13T22:08:57.568Z"
   },
   {
    "duration": 4994,
    "start_time": "2022-06-13T22:08:57.581Z"
   },
   {
    "duration": 4,
    "start_time": "2022-06-13T22:09:02.576Z"
   },
   {
    "duration": 15,
    "start_time": "2022-06-13T22:09:02.582Z"
   },
   {
    "duration": 25032,
    "start_time": "2022-06-13T22:09:02.599Z"
   },
   {
    "duration": 3,
    "start_time": "2022-06-13T22:09:27.633Z"
   },
   {
    "duration": 6,
    "start_time": "2022-06-13T22:09:27.638Z"
   },
   {
    "duration": 10,
    "start_time": "2022-06-13T22:09:27.645Z"
   },
   {
    "duration": 66,
    "start_time": "2022-06-13T23:13:53.752Z"
   },
   {
    "duration": 42,
    "start_time": "2022-06-13T23:18:00.979Z"
   },
   {
    "duration": 7518,
    "start_time": "2022-06-13T23:41:02.710Z"
   },
   {
    "duration": 1765,
    "start_time": "2022-06-13T23:41:10.231Z"
   },
   {
    "duration": 116,
    "start_time": "2022-06-13T23:41:11.997Z"
   },
   {
    "duration": 25,
    "start_time": "2022-06-13T23:41:12.115Z"
   },
   {
    "duration": 12,
    "start_time": "2022-06-13T23:41:12.141Z"
   },
   {
    "duration": 3,
    "start_time": "2022-06-13T23:41:12.154Z"
   },
   {
    "duration": 1869,
    "start_time": "2022-06-13T23:41:12.159Z"
   },
   {
    "duration": 1140,
    "start_time": "2022-06-13T23:41:14.030Z"
   },
   {
    "duration": 356,
    "start_time": "2022-06-13T23:41:15.172Z"
   },
   {
    "duration": 4,
    "start_time": "2022-06-13T23:41:15.532Z"
   },
   {
    "duration": 32,
    "start_time": "2022-06-13T23:41:15.538Z"
   },
   {
    "duration": 8,
    "start_time": "2022-06-13T23:41:15.571Z"
   },
   {
    "duration": 10,
    "start_time": "2022-06-13T23:41:15.580Z"
   },
   {
    "duration": 3,
    "start_time": "2022-06-13T23:41:15.592Z"
   },
   {
    "duration": 6,
    "start_time": "2022-06-13T23:41:15.596Z"
   },
   {
    "duration": 24,
    "start_time": "2022-06-13T23:41:15.604Z"
   },
   {
    "duration": 10,
    "start_time": "2022-06-13T23:41:15.630Z"
   },
   {
    "duration": 7,
    "start_time": "2022-06-13T23:41:15.642Z"
   },
   {
    "duration": 11,
    "start_time": "2022-06-13T23:41:15.650Z"
   },
   {
    "duration": 7,
    "start_time": "2022-06-13T23:41:15.662Z"
   },
   {
    "duration": 334,
    "start_time": "2022-06-13T23:41:15.670Z"
   },
   {
    "duration": 4,
    "start_time": "2022-06-13T23:41:16.005Z"
   },
   {
    "duration": 17,
    "start_time": "2022-06-13T23:41:16.011Z"
   },
   {
    "duration": 5718,
    "start_time": "2022-06-13T23:41:16.030Z"
   },
   {
    "duration": 5,
    "start_time": "2022-06-13T23:41:21.750Z"
   },
   {
    "duration": 6,
    "start_time": "2022-06-13T23:41:21.757Z"
   },
   {
    "duration": 20366,
    "start_time": "2022-06-13T23:41:21.764Z"
   },
   {
    "duration": 3,
    "start_time": "2022-06-13T23:41:42.133Z"
   },
   {
    "duration": 6,
    "start_time": "2022-06-13T23:41:42.138Z"
   },
   {
    "duration": 7,
    "start_time": "2022-06-13T23:41:42.145Z"
   },
   {
    "duration": 8149,
    "start_time": "2022-06-14T08:35:14.392Z"
   },
   {
    "duration": 1996,
    "start_time": "2022-06-14T08:35:22.544Z"
   },
   {
    "duration": 123,
    "start_time": "2022-06-14T08:35:24.542Z"
   },
   {
    "duration": 27,
    "start_time": "2022-06-14T08:35:24.666Z"
   },
   {
    "duration": 13,
    "start_time": "2022-06-14T08:35:24.695Z"
   },
   {
    "duration": 4,
    "start_time": "2022-06-14T08:35:24.709Z"
   },
   {
    "duration": 3058,
    "start_time": "2022-06-14T08:35:24.714Z"
   },
   {
    "duration": 2101,
    "start_time": "2022-06-14T08:35:27.774Z"
   },
   {
    "duration": 446,
    "start_time": "2022-06-14T08:35:29.877Z"
   },
   {
    "duration": 4,
    "start_time": "2022-06-14T08:35:30.325Z"
   },
   {
    "duration": 55,
    "start_time": "2022-06-14T08:35:30.331Z"
   },
   {
    "duration": 8,
    "start_time": "2022-06-14T08:35:30.388Z"
   },
   {
    "duration": 32,
    "start_time": "2022-06-14T08:35:30.397Z"
   },
   {
    "duration": 33,
    "start_time": "2022-06-14T08:35:30.432Z"
   },
   {
    "duration": 28,
    "start_time": "2022-06-14T08:35:30.466Z"
   },
   {
    "duration": 9,
    "start_time": "2022-06-14T08:35:30.496Z"
   },
   {
    "duration": 40,
    "start_time": "2022-06-14T08:35:30.507Z"
   },
   {
    "duration": 27,
    "start_time": "2022-06-14T08:35:30.549Z"
   },
   {
    "duration": 49,
    "start_time": "2022-06-14T08:35:30.578Z"
   },
   {
    "duration": 18,
    "start_time": "2022-06-14T08:35:30.629Z"
   },
   {
    "duration": 443,
    "start_time": "2022-06-14T08:35:30.649Z"
   },
   {
    "duration": 5,
    "start_time": "2022-06-14T08:35:31.094Z"
   },
   {
    "duration": 21,
    "start_time": "2022-06-14T08:35:31.100Z"
   },
   {
    "duration": 7324,
    "start_time": "2022-06-14T08:35:31.123Z"
   },
   {
    "duration": 4,
    "start_time": "2022-06-14T08:35:38.448Z"
   },
   {
    "duration": 12,
    "start_time": "2022-06-14T08:35:38.454Z"
   },
   {
    "duration": 33900,
    "start_time": "2022-06-14T08:35:38.467Z"
   },
   {
    "duration": 5,
    "start_time": "2022-06-14T08:36:12.368Z"
   },
   {
    "duration": 7,
    "start_time": "2022-06-14T08:36:12.374Z"
   },
   {
    "duration": 9,
    "start_time": "2022-06-14T08:36:12.382Z"
   },
   {
    "duration": 301310,
    "start_time": "2022-06-14T08:36:12.393Z"
   },
   {
    "duration": 409,
    "start_time": "2022-06-14T08:41:13.705Z"
   },
   {
    "duration": 255,
    "start_time": "2022-06-14T08:41:14.116Z"
   },
   {
    "duration": 851,
    "start_time": "2022-06-14T08:41:14.373Z"
   },
   {
    "duration": 9327,
    "start_time": "2022-06-14T08:41:15.226Z"
   },
   {
    "duration": 7844,
    "start_time": "2022-06-14T08:41:24.555Z"
   },
   {
    "duration": 10,
    "start_time": "2022-06-14T08:41:32.401Z"
   },
   {
    "duration": 6,
    "start_time": "2022-06-14T08:49:00.117Z"
   },
   {
    "duration": 30,
    "start_time": "2022-06-14T08:50:56.047Z"
   },
   {
    "duration": 4803,
    "start_time": "2022-06-14T09:02:19.284Z"
   },
   {
    "duration": 1692,
    "start_time": "2022-06-14T09:02:24.090Z"
   },
   {
    "duration": 53,
    "start_time": "2022-06-14T09:02:25.783Z"
   },
   {
    "duration": 25,
    "start_time": "2022-06-14T09:02:25.838Z"
   },
   {
    "duration": 12,
    "start_time": "2022-06-14T09:02:25.866Z"
   },
   {
    "duration": 8,
    "start_time": "2022-06-14T09:02:25.880Z"
   },
   {
    "duration": 2176,
    "start_time": "2022-06-14T09:02:25.890Z"
   },
   {
    "duration": 1264,
    "start_time": "2022-06-14T09:02:28.071Z"
   },
   {
    "duration": 371,
    "start_time": "2022-06-14T09:02:29.336Z"
   },
   {
    "duration": 4,
    "start_time": "2022-06-14T09:02:29.710Z"
   },
   {
    "duration": 181,
    "start_time": "2022-06-14T09:02:29.715Z"
   },
   {
    "duration": 0,
    "start_time": "2022-06-14T09:02:29.898Z"
   },
   {
    "duration": 0,
    "start_time": "2022-06-14T09:02:29.899Z"
   },
   {
    "duration": 0,
    "start_time": "2022-06-14T09:02:29.900Z"
   },
   {
    "duration": 0,
    "start_time": "2022-06-14T09:02:29.902Z"
   },
   {
    "duration": 0,
    "start_time": "2022-06-14T09:02:29.903Z"
   },
   {
    "duration": 0,
    "start_time": "2022-06-14T09:02:29.904Z"
   },
   {
    "duration": 0,
    "start_time": "2022-06-14T09:02:29.906Z"
   },
   {
    "duration": 0,
    "start_time": "2022-06-14T09:02:29.907Z"
   },
   {
    "duration": 0,
    "start_time": "2022-06-14T09:02:29.909Z"
   },
   {
    "duration": 0,
    "start_time": "2022-06-14T09:02:29.910Z"
   },
   {
    "duration": 0,
    "start_time": "2022-06-14T09:02:29.911Z"
   },
   {
    "duration": 0,
    "start_time": "2022-06-14T09:02:29.912Z"
   },
   {
    "duration": 0,
    "start_time": "2022-06-14T09:02:29.913Z"
   },
   {
    "duration": 0,
    "start_time": "2022-06-14T09:02:29.914Z"
   },
   {
    "duration": 0,
    "start_time": "2022-06-14T09:02:29.916Z"
   },
   {
    "duration": 0,
    "start_time": "2022-06-14T09:02:29.917Z"
   },
   {
    "duration": 0,
    "start_time": "2022-06-14T09:02:29.919Z"
   },
   {
    "duration": 0,
    "start_time": "2022-06-14T09:02:29.920Z"
   },
   {
    "duration": 0,
    "start_time": "2022-06-14T09:02:29.921Z"
   },
   {
    "duration": 0,
    "start_time": "2022-06-14T09:02:29.922Z"
   },
   {
    "duration": 0,
    "start_time": "2022-06-14T09:02:29.965Z"
   },
   {
    "duration": 0,
    "start_time": "2022-06-14T09:02:29.966Z"
   },
   {
    "duration": 0,
    "start_time": "2022-06-14T09:02:29.967Z"
   },
   {
    "duration": 0,
    "start_time": "2022-06-14T09:02:29.969Z"
   },
   {
    "duration": 0,
    "start_time": "2022-06-14T09:02:29.970Z"
   },
   {
    "duration": 0,
    "start_time": "2022-06-14T09:02:29.971Z"
   },
   {
    "duration": 0,
    "start_time": "2022-06-14T09:02:29.972Z"
   },
   {
    "duration": 5684,
    "start_time": "2022-06-14T09:02:59.614Z"
   },
   {
    "duration": 2354,
    "start_time": "2022-06-14T09:03:05.301Z"
   },
   {
    "duration": 48,
    "start_time": "2022-06-14T09:03:07.656Z"
   },
   {
    "duration": 25,
    "start_time": "2022-06-14T09:03:07.706Z"
   },
   {
    "duration": 13,
    "start_time": "2022-06-14T09:03:07.732Z"
   },
   {
    "duration": 4,
    "start_time": "2022-06-14T09:03:07.747Z"
   },
   {
    "duration": 2116,
    "start_time": "2022-06-14T09:03:07.753Z"
   },
   {
    "duration": 1153,
    "start_time": "2022-06-14T09:03:09.870Z"
   },
   {
    "duration": 386,
    "start_time": "2022-06-14T09:03:11.025Z"
   },
   {
    "duration": 4,
    "start_time": "2022-06-14T09:03:11.414Z"
   },
   {
    "duration": 30,
    "start_time": "2022-06-14T09:03:11.419Z"
   },
   {
    "duration": 20,
    "start_time": "2022-06-14T09:03:11.450Z"
   },
   {
    "duration": 9,
    "start_time": "2022-06-14T09:03:11.472Z"
   },
   {
    "duration": 3,
    "start_time": "2022-06-14T09:03:11.483Z"
   },
   {
    "duration": 5,
    "start_time": "2022-06-14T09:03:11.488Z"
   },
   {
    "duration": 9,
    "start_time": "2022-06-14T09:03:11.495Z"
   },
   {
    "duration": 6,
    "start_time": "2022-06-14T09:03:11.506Z"
   },
   {
    "duration": 10,
    "start_time": "2022-06-14T09:03:11.514Z"
   },
   {
    "duration": 6,
    "start_time": "2022-06-14T09:03:11.525Z"
   },
   {
    "duration": 36,
    "start_time": "2022-06-14T09:03:11.533Z"
   },
   {
    "duration": 335,
    "start_time": "2022-06-14T09:03:11.570Z"
   },
   {
    "duration": 4,
    "start_time": "2022-06-14T09:03:11.907Z"
   },
   {
    "duration": 8,
    "start_time": "2022-06-14T09:03:11.912Z"
   },
   {
    "duration": 7111,
    "start_time": "2022-06-14T09:03:11.922Z"
   },
   {
    "duration": 5,
    "start_time": "2022-06-14T09:03:19.034Z"
   },
   {
    "duration": 17,
    "start_time": "2022-06-14T09:03:19.041Z"
   },
   {
    "duration": 17412,
    "start_time": "2022-06-14T09:03:19.065Z"
   },
   {
    "duration": 4,
    "start_time": "2022-06-14T09:03:36.481Z"
   },
   {
    "duration": 78,
    "start_time": "2022-06-14T09:03:36.487Z"
   },
   {
    "duration": 8,
    "start_time": "2022-06-14T09:03:36.568Z"
   },
   {
    "duration": 250665,
    "start_time": "2022-06-14T09:03:36.578Z"
   },
   {
    "duration": 396,
    "start_time": "2022-06-14T09:07:47.245Z"
   },
   {
    "duration": 248,
    "start_time": "2022-06-14T09:07:47.643Z"
   },
   {
    "duration": 749,
    "start_time": "2022-06-14T09:07:47.892Z"
   },
   {
    "duration": 668,
    "start_time": "2022-06-14T09:07:48.643Z"
   },
   {
    "duration": 836,
    "start_time": "2022-06-14T09:07:49.313Z"
   },
   {
    "duration": 16,
    "start_time": "2022-06-14T09:07:50.151Z"
   },
   {
    "duration": 146,
    "start_time": "2022-06-14T09:13:19.179Z"
   },
   {
    "duration": 491,
    "start_time": "2022-06-14T09:30:01.940Z"
   },
   {
    "duration": 292,
    "start_time": "2022-06-14T09:30:10.147Z"
   },
   {
    "duration": 142,
    "start_time": "2022-06-14T09:30:16.251Z"
   },
   {
    "duration": 11,
    "start_time": "2022-06-14T09:32:08.832Z"
   },
   {
    "duration": 157,
    "start_time": "2022-06-14T09:32:19.042Z"
   },
   {
    "duration": 109,
    "start_time": "2022-06-14T09:33:12.881Z"
   },
   {
    "duration": 164,
    "start_time": "2022-06-14T09:33:22.378Z"
   },
   {
    "duration": 160,
    "start_time": "2022-06-14T09:33:34.186Z"
   },
   {
    "duration": 166,
    "start_time": "2022-06-14T09:33:46.985Z"
   },
   {
    "duration": 136,
    "start_time": "2022-06-14T09:34:03.370Z"
   },
   {
    "duration": 307,
    "start_time": "2022-06-14T09:34:31.498Z"
   },
   {
    "duration": 4694,
    "start_time": "2022-06-14T09:36:09.485Z"
   },
   {
    "duration": 1669,
    "start_time": "2022-06-14T09:36:14.182Z"
   },
   {
    "duration": 49,
    "start_time": "2022-06-14T09:36:15.852Z"
   },
   {
    "duration": 26,
    "start_time": "2022-06-14T09:36:15.903Z"
   },
   {
    "duration": 13,
    "start_time": "2022-06-14T09:36:15.931Z"
   },
   {
    "duration": 5,
    "start_time": "2022-06-14T09:36:15.946Z"
   },
   {
    "duration": 2013,
    "start_time": "2022-06-14T09:36:15.953Z"
   },
   {
    "duration": 1221,
    "start_time": "2022-06-14T09:36:17.970Z"
   },
   {
    "duration": 392,
    "start_time": "2022-06-14T09:36:19.193Z"
   },
   {
    "duration": 4,
    "start_time": "2022-06-14T09:36:19.587Z"
   },
   {
    "duration": 27,
    "start_time": "2022-06-14T09:36:19.592Z"
   },
   {
    "duration": 6,
    "start_time": "2022-06-14T09:36:19.621Z"
   },
   {
    "duration": 9,
    "start_time": "2022-06-14T09:36:19.628Z"
   },
   {
    "duration": 3,
    "start_time": "2022-06-14T09:36:19.640Z"
   },
   {
    "duration": 23,
    "start_time": "2022-06-14T09:36:19.644Z"
   },
   {
    "duration": 8,
    "start_time": "2022-06-14T09:36:19.669Z"
   },
   {
    "duration": 5,
    "start_time": "2022-06-14T09:36:19.678Z"
   },
   {
    "duration": 8,
    "start_time": "2022-06-14T09:36:19.685Z"
   },
   {
    "duration": 5,
    "start_time": "2022-06-14T09:36:19.695Z"
   },
   {
    "duration": 12,
    "start_time": "2022-06-14T09:36:19.701Z"
   },
   {
    "duration": 305,
    "start_time": "2022-06-14T09:36:19.715Z"
   },
   {
    "duration": 4,
    "start_time": "2022-06-14T09:36:20.022Z"
   },
   {
    "duration": 14,
    "start_time": "2022-06-14T09:36:20.028Z"
   },
   {
    "duration": 6041,
    "start_time": "2022-06-14T09:36:20.043Z"
   },
   {
    "duration": 4,
    "start_time": "2022-06-14T09:36:26.086Z"
   },
   {
    "duration": 8,
    "start_time": "2022-06-14T09:36:26.092Z"
   },
   {
    "duration": 116468,
    "start_time": "2022-06-14T09:36:26.102Z"
   },
   {
    "duration": 4,
    "start_time": "2022-06-14T09:38:22.572Z"
   },
   {
    "duration": 11,
    "start_time": "2022-06-14T09:38:22.578Z"
   },
   {
    "duration": 9,
    "start_time": "2022-06-14T09:38:22.590Z"
   },
   {
    "duration": 99494,
    "start_time": "2022-06-14T09:38:22.601Z"
   },
   {
    "duration": 370,
    "start_time": "2022-06-14T09:40:02.097Z"
   },
   {
    "duration": 187,
    "start_time": "2022-06-14T09:40:02.470Z"
   },
   {
    "duration": 245,
    "start_time": "2022-06-14T09:40:02.665Z"
   },
   {
    "duration": 191,
    "start_time": "2022-06-14T09:40:02.912Z"
   },
   {
    "duration": 919,
    "start_time": "2022-06-14T09:40:03.104Z"
   },
   {
    "duration": 208,
    "start_time": "2022-06-14T09:40:04.026Z"
   },
   {
    "duration": 2284,
    "start_time": "2022-06-14T09:40:04.236Z"
   },
   {
    "duration": 186,
    "start_time": "2022-06-14T09:40:06.521Z"
   },
   {
    "duration": 1370,
    "start_time": "2022-06-14T09:40:06.709Z"
   },
   {
    "duration": 221,
    "start_time": "2022-06-14T09:40:08.084Z"
   },
   {
    "duration": 176,
    "start_time": "2022-06-14T09:40:08.307Z"
   },
   {
    "duration": 9,
    "start_time": "2022-06-14T09:40:08.485Z"
   },
   {
    "duration": 172,
    "start_time": "2022-06-14T09:41:42.214Z"
   },
   {
    "duration": 170,
    "start_time": "2022-06-14T09:41:47.190Z"
   },
   {
    "duration": 183,
    "start_time": "2022-06-14T09:42:37.238Z"
   },
   {
    "duration": 214,
    "start_time": "2022-06-14T09:43:19.166Z"
   },
   {
    "duration": 181,
    "start_time": "2022-06-14T09:43:32.884Z"
   },
   {
    "duration": 438,
    "start_time": "2022-06-14T09:45:28.501Z"
   },
   {
    "duration": 218,
    "start_time": "2022-06-14T09:45:38.909Z"
   },
   {
    "duration": 187,
    "start_time": "2022-06-14T09:45:44.316Z"
   },
   {
    "duration": 189,
    "start_time": "2022-06-14T09:45:51.459Z"
   },
   {
    "duration": 162,
    "start_time": "2022-06-14T09:45:57.164Z"
   },
   {
    "duration": 187,
    "start_time": "2022-06-14T09:46:03.628Z"
   },
   {
    "duration": 180,
    "start_time": "2022-06-14T09:46:08.316Z"
   },
   {
    "duration": 272,
    "start_time": "2022-06-14T09:46:33.821Z"
   },
   {
    "duration": 217,
    "start_time": "2022-06-14T09:53:41.648Z"
   },
   {
    "duration": 176,
    "start_time": "2022-06-14T09:54:25.921Z"
   },
   {
    "duration": 333,
    "start_time": "2022-06-14T09:54:47.872Z"
   },
   {
    "duration": 298,
    "start_time": "2022-06-14T09:56:06.407Z"
   },
   {
    "duration": 201,
    "start_time": "2022-06-14T09:56:06.707Z"
   },
   {
    "duration": 257,
    "start_time": "2022-06-14T09:56:06.911Z"
   },
   {
    "duration": 202,
    "start_time": "2022-06-14T09:56:07.170Z"
   },
   {
    "duration": 788,
    "start_time": "2022-06-14T09:56:07.374Z"
   },
   {
    "duration": 206,
    "start_time": "2022-06-14T09:56:08.165Z"
   },
   {
    "duration": 1894,
    "start_time": "2022-06-14T09:56:08.373Z"
   },
   {
    "duration": 195,
    "start_time": "2022-06-14T09:56:10.269Z"
   },
   {
    "duration": 1443,
    "start_time": "2022-06-14T09:56:10.466Z"
   },
   {
    "duration": 207,
    "start_time": "2022-06-14T09:56:11.911Z"
   },
   {
    "duration": 194,
    "start_time": "2022-06-14T09:56:12.120Z"
   },
   {
    "duration": 9,
    "start_time": "2022-06-14T09:56:12.316Z"
   },
   {
    "duration": 210,
    "start_time": "2022-06-14T09:59:12.094Z"
   },
   {
    "duration": 212,
    "start_time": "2022-06-14T09:59:21.006Z"
   },
   {
    "duration": 7172,
    "start_time": "2022-06-14T11:30:19.972Z"
   },
   {
    "duration": 1885,
    "start_time": "2022-06-14T11:30:27.146Z"
   },
   {
    "duration": 140,
    "start_time": "2022-06-14T11:30:29.032Z"
   },
   {
    "duration": 25,
    "start_time": "2022-06-14T11:30:29.173Z"
   },
   {
    "duration": 17,
    "start_time": "2022-06-14T11:30:29.200Z"
   },
   {
    "duration": 3,
    "start_time": "2022-06-14T11:30:29.219Z"
   },
   {
    "duration": 1455,
    "start_time": "2022-06-14T11:30:29.224Z"
   },
   {
    "duration": 1141,
    "start_time": "2022-06-14T11:30:30.681Z"
   },
   {
    "duration": 377,
    "start_time": "2022-06-14T11:30:31.824Z"
   },
   {
    "duration": 3,
    "start_time": "2022-06-14T11:30:32.203Z"
   },
   {
    "duration": 26,
    "start_time": "2022-06-14T11:30:32.208Z"
   },
   {
    "duration": 6,
    "start_time": "2022-06-14T11:30:32.236Z"
   },
   {
    "duration": 17,
    "start_time": "2022-06-14T11:30:32.243Z"
   },
   {
    "duration": 18,
    "start_time": "2022-06-14T11:30:32.263Z"
   },
   {
    "duration": 10,
    "start_time": "2022-06-14T11:30:32.283Z"
   },
   {
    "duration": 11,
    "start_time": "2022-06-14T11:30:32.294Z"
   },
   {
    "duration": 10,
    "start_time": "2022-06-14T11:30:32.306Z"
   },
   {
    "duration": 10,
    "start_time": "2022-06-14T11:30:32.318Z"
   },
   {
    "duration": 11,
    "start_time": "2022-06-14T11:30:32.330Z"
   },
   {
    "duration": 7,
    "start_time": "2022-06-14T11:30:32.342Z"
   },
   {
    "duration": 283,
    "start_time": "2022-06-14T11:30:32.351Z"
   },
   {
    "duration": 4,
    "start_time": "2022-06-14T11:30:32.636Z"
   },
   {
    "duration": 14,
    "start_time": "2022-06-14T11:30:32.642Z"
   },
   {
    "duration": 5960,
    "start_time": "2022-06-14T11:30:32.658Z"
   },
   {
    "duration": 4,
    "start_time": "2022-06-14T11:30:38.620Z"
   },
   {
    "duration": 6,
    "start_time": "2022-06-14T11:30:38.626Z"
   }
  ],
  "kernelspec": {
   "display_name": "Python 3.8.13 ('base')",
   "language": "python",
   "name": "python3"
  },
  "language_info": {
   "codemirror_mode": {
    "name": "ipython",
    "version": 3
   },
   "file_extension": ".py",
   "mimetype": "text/x-python",
   "name": "python",
   "nbconvert_exporter": "python",
   "pygments_lexer": "ipython3",
   "version": "3.8.13"
  },
  "toc": {
   "base_numbering": 1,
   "nav_menu": {},
   "number_sections": true,
   "sideBar": true,
   "skip_h1_title": true,
   "title_cell": "Содержание",
   "title_sidebar": "Содержание",
   "toc_cell": true,
   "toc_position": {
    "height": "calc(100% - 180px)",
    "left": "10px",
    "top": "150px",
    "width": "440.54px"
   },
   "toc_section_display": true,
   "toc_window_display": true
  },
  "vscode": {
   "interpreter": {
    "hash": "ad2bdc8ecc057115af97d19610ffacc2b4e99fae6737bb82f5d7fb13d2f2c186"
   }
  }
 },
 "nbformat": 4,
 "nbformat_minor": 2
}
