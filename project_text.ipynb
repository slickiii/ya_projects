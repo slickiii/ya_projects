{
 "cells": [
  {
   "cell_type": "markdown",
   "metadata": {},
   "source": [
    "# Проект для «Vshop»"
   ]
  },
  {
   "cell_type": "markdown",
   "metadata": {},
   "source": [
    "Построение модели и выбор наиболее качественной для определения токсичности коментариев \n",
    "Получен исходныый набор данных с разметкой о токсичности правок."
   ]
  },
  {
   "cell_type": "code",
   "execution_count": 1,
   "metadata": {},
   "outputs": [],
   "source": [
    "# ! pip install pymystem3\n",
    "# ! pip install transformers\n",
    "# ! pip install optuna"
   ]
  },
  {
   "cell_type": "markdown",
   "metadata": {},
   "source": [
    "### Среда и инструменты\n",
    "Импорт библиотек"
   ]
  },
  {
   "cell_type": "code",
   "execution_count": 10,
   "metadata": {},
   "outputs": [
    {
     "name": "stderr",
     "output_type": "stream",
     "text": [
      "[nltk_data] Downloading package stopwords to /home/jovyan/nltk_data...\n",
      "[nltk_data]   Package stopwords is already up-to-date!\n",
      "[nltk_data] Downloading package averaged_perceptron_tagger to\n",
      "[nltk_data]     /home/jovyan/nltk_data...\n",
      "[nltk_data]   Unzipping taggers/averaged_perceptron_tagger.zip.\n"
     ]
    }
   ],
   "source": [
    "import pandas as pd\n",
    "import numpy as np\n",
    "import torch\n",
    "import re\n",
    "import time\n",
    "import warnings\n",
    "import nltk\n",
    "# import optuna\n",
    "import catboost\n",
    "import lightgbm\n",
    "import sklearn\n",
    "import transformers\n",
    "import matplotlib.pyplot as plt\n",
    "\n",
    "from transformers import pipeline\n",
    "from tqdm import notebook\n",
    "nltk.download('stopwords')\n",
    "nltk.download('averaged_perceptron_tagger')\n",
    "from nltk.corpus import stopwords, wordnet\n",
    "from nltk.stem import WordNetLemmatizer\n",
    "from pymystem3 import Mystem\n",
    "from sklearn.feature_extraction.text import TfidfVectorizer, CountVectorizer\n",
    "from sklearn.metrics import f1_score, make_scorer, plot_confusion_matrix, confusion_matrix, ConfusionMatrixDisplay\n",
    "from sklearn.model_selection import train_test_split, cross_val_score, KFold, GridSearchCV, RandomizedSearchCV\n",
    "from sklearn.dummy import DummyClassifier\n",
    "from sklearn.linear_model import LogisticRegression\n",
    "from sklearn.tree import DecisionTreeClassifier\n",
    "from sklearn.ensemble import RandomForestClassifier\n",
    "from lightgbm import LGBMClassifier\n",
    "from catboost import CatBoostClassifier\n",
    "# from optuna.integration import OptunaSearchCV\n",
    "from sklearn.datasets import make_classification\n",
    "# настройка полного отображения колонок\n",
    "pd.options.display.max_columns = None\n",
    "\n",
    "# сразу запишем\n",
    "warnings.simplefilter(\"ignore\")\n",
    "stopwords = set(stopwords.words('english'))\n",
    "m = Mystem()\n",
    "STATE = 12345\n",
    "scores = []"
   ]
  },
  {
   "cell_type": "code",
   "execution_count": 11,
   "metadata": {
    "code_folding": []
   },
   "outputs": [],
   "source": [
    "def open_file(name):\n",
    "    try:\n",
    "        return pd.read_csv(name, index_col=[0], parse_dates=[0])\n",
    "    except FileNotFoundError:\n",
    "        return pd.read_csv('/datasets/' + name, index_col=[0], parse_dates=[0])\n",
    "\n",
    "\n",
    "# чтение файла\n",
    "# df_start = open_file('toxic_comments.csv')"
   ]
  },
  {
   "cell_type": "code",
   "execution_count": 12,
   "metadata": {
    "code_folding": [],
    "scrolled": true
   },
   "outputs": [],
   "source": [
    "# функция анализа DF\n",
    "def analysis(df):\n",
    "    sep = '\\n' + 120*'-' + '\\n'\n",
    "    print(sep)\n",
    "    print('Первые пять строк DF:', sep)\n",
    "    display(df.head(5))\n",
    "    print('Описание:', sep)\n",
    "    display(df.describe().round(2))\n",
    "    print('Количество строк и столбцов:', sep)\n",
    "    display(df.shape)\n",
    "    print('Общая информация:', sep)\n",
    "    display(df.info())\n",
    "    print('Количество пропущеных значений в столбцах:', sep)\n",
    "    display(df.isna().sum())\n",
    "    print('Названия столбцов:', sep)\n",
    "    name_st = df.columns.tolist()\n",
    "    display(name_st)\n",
    "    print('Количество уникальных значений в столбцах:', sep)\n",
    "    for i in (name_st):\n",
    "        print(i, ':', df[i].value_counts().count())\n",
    "    print(sep)"
   ]
  },
  {
   "cell_type": "markdown",
   "metadata": {},
   "source": [
    "### Обзор и коррекция исходных данных"
   ]
  },
  {
   "cell_type": "code",
   "execution_count": 13,
   "metadata": {
    "code_folding": [],
    "scrolled": true
   },
   "outputs": [
    {
     "name": "stdout",
     "output_type": "stream",
     "text": [
      "\n",
      "------------------------------------------------------------------------------------------------------------------------\n",
      "\n",
      "Первые пять строк DF: \n",
      "------------------------------------------------------------------------------------------------------------------------\n",
      "\n"
     ]
    },
    {
     "data": {
      "text/html": [
       "<div>\n",
       "<style scoped>\n",
       "    .dataframe tbody tr th:only-of-type {\n",
       "        vertical-align: middle;\n",
       "    }\n",
       "\n",
       "    .dataframe tbody tr th {\n",
       "        vertical-align: top;\n",
       "    }\n",
       "\n",
       "    .dataframe thead th {\n",
       "        text-align: right;\n",
       "    }\n",
       "</style>\n",
       "<table border=\"1\" class=\"dataframe\">\n",
       "  <thead>\n",
       "    <tr style=\"text-align: right;\">\n",
       "      <th></th>\n",
       "      <th>toxic</th>\n",
       "    </tr>\n",
       "    <tr>\n",
       "      <th>text</th>\n",
       "      <th></th>\n",
       "    </tr>\n",
       "  </thead>\n",
       "  <tbody>\n",
       "    <tr>\n",
       "      <th>Explanation\\nWhy the edits made under my username Hardcore Metallica Fan were reverted? They weren't vandalisms, just closure on some GAs after I voted at New York Dolls FAC. And please don't remove the template from the talk page since I'm retired now.89.205.38.27</th>\n",
       "      <td>0</td>\n",
       "    </tr>\n",
       "    <tr>\n",
       "      <th>D'aww! He matches this background colour I'm seemingly stuck with. Thanks.  (talk) 21:51, January 11, 2016 (UTC)</th>\n",
       "      <td>0</td>\n",
       "    </tr>\n",
       "    <tr>\n",
       "      <th>Hey man, I'm really not trying to edit war. It's just that this guy is constantly removing relevant information and talking to me through edits instead of my talk page. He seems to care more about the formatting than the actual info.</th>\n",
       "      <td>0</td>\n",
       "    </tr>\n",
       "    <tr>\n",
       "      <th>\"\\nMore\\nI can't make any real suggestions on improvement - I wondered if the section statistics should be later on, or a subsection of \"\"types of accidents\"\"  -I think the references may need tidying so that they are all in the exact same format ie date format etc. I can do that later on, if no-one else does first - if you have any preferences for formatting style on references or want to do it yourself please let me know.\\n\\nThere appears to be a backlog on articles for review so I guess there may be a delay until a reviewer turns up. It's listed in the relevant form eg Wikipedia:Good_article_nominations#Transport  \"</th>\n",
       "      <td>0</td>\n",
       "    </tr>\n",
       "    <tr>\n",
       "      <th>You, sir, are my hero. Any chance you remember what page that's on?</th>\n",
       "      <td>0</td>\n",
       "    </tr>\n",
       "  </tbody>\n",
       "</table>\n",
       "</div>"
      ],
      "text/plain": [
       "                                                    toxic\n",
       "text                                                     \n",
       "Explanation\\nWhy the edits made under my userna...      0\n",
       "D'aww! He matches this background colour I'm se...      0\n",
       "Hey man, I'm really not trying to edit war. It'...      0\n",
       "\"\\nMore\\nI can't make any real suggestions on i...      0\n",
       "You, sir, are my hero. Any chance you remember ...      0"
      ]
     },
     "metadata": {},
     "output_type": "display_data"
    },
    {
     "name": "stdout",
     "output_type": "stream",
     "text": [
      "Описание: \n",
      "------------------------------------------------------------------------------------------------------------------------\n",
      "\n"
     ]
    },
    {
     "data": {
      "text/html": [
       "<div>\n",
       "<style scoped>\n",
       "    .dataframe tbody tr th:only-of-type {\n",
       "        vertical-align: middle;\n",
       "    }\n",
       "\n",
       "    .dataframe tbody tr th {\n",
       "        vertical-align: top;\n",
       "    }\n",
       "\n",
       "    .dataframe thead th {\n",
       "        text-align: right;\n",
       "    }\n",
       "</style>\n",
       "<table border=\"1\" class=\"dataframe\">\n",
       "  <thead>\n",
       "    <tr style=\"text-align: right;\">\n",
       "      <th></th>\n",
       "      <th>toxic</th>\n",
       "    </tr>\n",
       "  </thead>\n",
       "  <tbody>\n",
       "    <tr>\n",
       "      <th>count</th>\n",
       "      <td>159571.0</td>\n",
       "    </tr>\n",
       "    <tr>\n",
       "      <th>mean</th>\n",
       "      <td>0.1</td>\n",
       "    </tr>\n",
       "    <tr>\n",
       "      <th>std</th>\n",
       "      <td>0.3</td>\n",
       "    </tr>\n",
       "    <tr>\n",
       "      <th>min</th>\n",
       "      <td>0.0</td>\n",
       "    </tr>\n",
       "    <tr>\n",
       "      <th>25%</th>\n",
       "      <td>0.0</td>\n",
       "    </tr>\n",
       "    <tr>\n",
       "      <th>50%</th>\n",
       "      <td>0.0</td>\n",
       "    </tr>\n",
       "    <tr>\n",
       "      <th>75%</th>\n",
       "      <td>0.0</td>\n",
       "    </tr>\n",
       "    <tr>\n",
       "      <th>max</th>\n",
       "      <td>1.0</td>\n",
       "    </tr>\n",
       "  </tbody>\n",
       "</table>\n",
       "</div>"
      ],
      "text/plain": [
       "          toxic\n",
       "count  159571.0\n",
       "mean        0.1\n",
       "std         0.3\n",
       "min         0.0\n",
       "25%         0.0\n",
       "50%         0.0\n",
       "75%         0.0\n",
       "max         1.0"
      ]
     },
     "metadata": {},
     "output_type": "display_data"
    },
    {
     "name": "stdout",
     "output_type": "stream",
     "text": [
      "Количество строк и столбцов: \n",
      "------------------------------------------------------------------------------------------------------------------------\n",
      "\n"
     ]
    },
    {
     "data": {
      "text/plain": [
       "(159571, 1)"
      ]
     },
     "metadata": {},
     "output_type": "display_data"
    },
    {
     "name": "stdout",
     "output_type": "stream",
     "text": [
      "Общая информация: \n",
      "------------------------------------------------------------------------------------------------------------------------\n",
      "\n",
      "<class 'pandas.core.frame.DataFrame'>\n",
      "Index: 159571 entries, Explanation\n",
      "Why the edits made under my username Hardcore Metallica Fan were reverted? They weren't vandalisms, just closure on some GAs after I voted at New York Dolls FAC. And please don't remove the template from the talk page since I'm retired now.89.205.38.27 to \"\n",
      "And ... I really don't think you understand.  I came here and my idea was bad right away.  What kind of community goes \"\"you have bad ideas\"\" go away, instead of helping rewrite them.   \"\n",
      "Data columns (total 1 columns):\n",
      " #   Column  Non-Null Count   Dtype\n",
      "---  ------  --------------   -----\n",
      " 0   toxic   159571 non-null  int64\n",
      "dtypes: int64(1)\n",
      "memory usage: 2.4+ MB\n"
     ]
    },
    {
     "data": {
      "text/plain": [
       "None"
      ]
     },
     "metadata": {},
     "output_type": "display_data"
    },
    {
     "name": "stdout",
     "output_type": "stream",
     "text": [
      "Количество пропущеных значений в столбцах: \n",
      "------------------------------------------------------------------------------------------------------------------------\n",
      "\n"
     ]
    },
    {
     "data": {
      "text/plain": [
       "toxic    0\n",
       "dtype: int64"
      ]
     },
     "metadata": {},
     "output_type": "display_data"
    },
    {
     "name": "stdout",
     "output_type": "stream",
     "text": [
      "Названия столбцов: \n",
      "------------------------------------------------------------------------------------------------------------------------\n",
      "\n"
     ]
    },
    {
     "data": {
      "text/plain": [
       "['toxic']"
      ]
     },
     "metadata": {},
     "output_type": "display_data"
    },
    {
     "name": "stdout",
     "output_type": "stream",
     "text": [
      "Количество уникальных значений в столбцах: \n",
      "------------------------------------------------------------------------------------------------------------------------\n",
      "\n",
      "toxic : 2\n",
      "\n",
      "------------------------------------------------------------------------------------------------------------------------\n",
      "\n"
     ]
    }
   ],
   "source": [
    "# анализ DF\n",
    "analysis(df_start)"
   ]
  },
  {
   "cell_type": "code",
   "execution_count": 14,
   "metadata": {},
   "outputs": [
    {
     "data": {
      "text/html": [
       "<div>\n",
       "<style scoped>\n",
       "    .dataframe tbody tr th:only-of-type {\n",
       "        vertical-align: middle;\n",
       "    }\n",
       "\n",
       "    .dataframe tbody tr th {\n",
       "        vertical-align: top;\n",
       "    }\n",
       "\n",
       "    .dataframe thead th {\n",
       "        text-align: right;\n",
       "    }\n",
       "</style>\n",
       "<table border=\"1\" class=\"dataframe\">\n",
       "  <thead>\n",
       "    <tr style=\"text-align: right;\">\n",
       "      <th></th>\n",
       "      <th>text</th>\n",
       "      <th>toxic</th>\n",
       "    </tr>\n",
       "  </thead>\n",
       "  <tbody>\n",
       "    <tr>\n",
       "      <th>0</th>\n",
       "      <td>Explanation\\nWhy the edits made under my usern...</td>\n",
       "      <td>0</td>\n",
       "    </tr>\n",
       "    <tr>\n",
       "      <th>1</th>\n",
       "      <td>D'aww! He matches this background colour I'm s...</td>\n",
       "      <td>0</td>\n",
       "    </tr>\n",
       "    <tr>\n",
       "      <th>2</th>\n",
       "      <td>Hey man, I'm really not trying to edit war. It...</td>\n",
       "      <td>0</td>\n",
       "    </tr>\n",
       "    <tr>\n",
       "      <th>3</th>\n",
       "      <td>\"\\nMore\\nI can't make any real suggestions on ...</td>\n",
       "      <td>0</td>\n",
       "    </tr>\n",
       "    <tr>\n",
       "      <th>4</th>\n",
       "      <td>You, sir, are my hero. Any chance you remember...</td>\n",
       "      <td>0</td>\n",
       "    </tr>\n",
       "  </tbody>\n",
       "</table>\n",
       "</div>"
      ],
      "text/plain": [
       "                                                text  toxic\n",
       "0  Explanation\\nWhy the edits made under my usern...      0\n",
       "1  D'aww! He matches this background colour I'm s...      0\n",
       "2  Hey man, I'm really not trying to edit war. It...      0\n",
       "3  \"\\nMore\\nI can't make any real suggestions on ...      0\n",
       "4  You, sir, are my hero. Any chance you remember...      0"
      ]
     },
     "execution_count": 14,
     "metadata": {},
     "output_type": "execute_result"
    }
   ],
   "source": [
    "# копируем исходные данные в \"df\" для дальнейшей работы\n",
    "# сбрасываем индексы\n",
    "df = df_start.copy()\n",
    "df = df.reset_index() \n",
    "df.head()"
   ]
  },
  {
   "cell_type": "code",
   "execution_count": 15,
   "metadata": {
    "code_folding": []
   },
   "outputs": [],
   "source": [
    "# wordnet lemmatization \n",
    "def get_wordnet_pos(word):\n",
    "    \"\"\"Map POS tag to first character lemmatize() accepts\"\"\"\n",
    "    tag = nltk.pos_tag([word])[0][1][0].upper()\n",
    "    tag_dict = {\"J\": wordnet.ADJ,\n",
    "                \"N\": wordnet.NOUN,\n",
    "                \"V\": wordnet.VERB,\n",
    "                \"R\": wordnet.ADV}\n",
    "    return tag_dict.get(tag, wordnet.NOUN)\n",
    "\n",
    "lemmatizer = WordNetLemmatizer()\n",
    "\n",
    "# функция лематизации текста\n",
    "def lem(df): \n",
    "    some_text = df.lower()\n",
    "    some_text =  \" \".join(re.sub(r'[^a-zA-Z ]', ' ', some_text).split())\n",
    "    word_list = nltk.word_tokenize(some_text)\n",
    "    lemmatized_output = ' '.join([lemmatizer.lemmatize(w, get_wordnet_pos(w)) for w in word_list])\n",
    "    return lemmatized_output "
   ]
  },
  {
   "cell_type": "code",
   "execution_count": 16,
   "metadata": {},
   "outputs": [
    {
     "name": "stdout",
     "output_type": "stream",
     "text": [
      "CPU times: user 17min 9s, sys: 1min 38s, total: 18min 48s\n",
      "Wall time: 18min 49s\n"
     ]
    }
   ],
   "source": [
    "%%time\n",
    "\n",
    "df['text'] = df['text'].apply(lem)\n",
    "\n",
    "# df = open_file('lemma_df.csv')"
   ]
  },
  {
   "cell_type": "code",
   "execution_count": 25,
   "metadata": {},
   "outputs": [],
   "source": [
    "# оценим \n",
    "df\n",
    "df.duplicated().sum()\n",
    "df.drop_duplicates(inplace=True, ignore_index=True)"
   ]
  },
  {
   "cell_type": "code",
   "execution_count": 26,
   "metadata": {},
   "outputs": [
    {
     "data": {
      "text/html": [
       "<div>\n",
       "<style scoped>\n",
       "    .dataframe tbody tr th:only-of-type {\n",
       "        vertical-align: middle;\n",
       "    }\n",
       "\n",
       "    .dataframe tbody tr th {\n",
       "        vertical-align: top;\n",
       "    }\n",
       "\n",
       "    .dataframe thead th {\n",
       "        text-align: right;\n",
       "    }\n",
       "</style>\n",
       "<table border=\"1\" class=\"dataframe\">\n",
       "  <thead>\n",
       "    <tr style=\"text-align: right;\">\n",
       "      <th></th>\n",
       "      <th>text</th>\n",
       "      <th>toxic</th>\n",
       "    </tr>\n",
       "  </thead>\n",
       "  <tbody>\n",
       "    <tr>\n",
       "      <th>0</th>\n",
       "      <td>explanation why the edits make under my userna...</td>\n",
       "      <td>0</td>\n",
       "    </tr>\n",
       "    <tr>\n",
       "      <th>1</th>\n",
       "      <td>d aww he match this background colour i m seem...</td>\n",
       "      <td>0</td>\n",
       "    </tr>\n",
       "    <tr>\n",
       "      <th>2</th>\n",
       "      <td>hey man i m really not try to edit war it s ju...</td>\n",
       "      <td>0</td>\n",
       "    </tr>\n",
       "    <tr>\n",
       "      <th>3</th>\n",
       "      <td>more i can t make any real suggestion on impro...</td>\n",
       "      <td>0</td>\n",
       "    </tr>\n",
       "    <tr>\n",
       "      <th>4</th>\n",
       "      <td>you sir be my hero any chance you remember wha...</td>\n",
       "      <td>0</td>\n",
       "    </tr>\n",
       "    <tr>\n",
       "      <th>...</th>\n",
       "      <td>...</td>\n",
       "      <td>...</td>\n",
       "    </tr>\n",
       "    <tr>\n",
       "      <th>158254</th>\n",
       "      <td>and for the second time of ask when your view ...</td>\n",
       "      <td>0</td>\n",
       "    </tr>\n",
       "    <tr>\n",
       "      <th>158255</th>\n",
       "      <td>you should be ashamed of yourself that be a ho...</td>\n",
       "      <td>0</td>\n",
       "    </tr>\n",
       "    <tr>\n",
       "      <th>158256</th>\n",
       "      <td>spitzer umm there no actual article for prosti...</td>\n",
       "      <td>0</td>\n",
       "    </tr>\n",
       "    <tr>\n",
       "      <th>158257</th>\n",
       "      <td>and it look like it be actually you who put on...</td>\n",
       "      <td>0</td>\n",
       "    </tr>\n",
       "    <tr>\n",
       "      <th>158258</th>\n",
       "      <td>and i really don t think you understand i come...</td>\n",
       "      <td>0</td>\n",
       "    </tr>\n",
       "  </tbody>\n",
       "</table>\n",
       "<p>158259 rows × 2 columns</p>\n",
       "</div>"
      ],
      "text/plain": [
       "                                                     text  toxic\n",
       "0       explanation why the edits make under my userna...      0\n",
       "1       d aww he match this background colour i m seem...      0\n",
       "2       hey man i m really not try to edit war it s ju...      0\n",
       "3       more i can t make any real suggestion on impro...      0\n",
       "4       you sir be my hero any chance you remember wha...      0\n",
       "...                                                   ...    ...\n",
       "158254  and for the second time of ask when your view ...      0\n",
       "158255  you should be ashamed of yourself that be a ho...      0\n",
       "158256  spitzer umm there no actual article for prosti...      0\n",
       "158257  and it look like it be actually you who put on...      0\n",
       "158258  and i really don t think you understand i come...      0\n",
       "\n",
       "[158259 rows x 2 columns]"
      ]
     },
     "execution_count": 26,
     "metadata": {},
     "output_type": "execute_result"
    }
   ],
   "source": [
    "df"
   ]
  },
  {
   "cell_type": "code",
   "execution_count": null,
   "metadata": {},
   "outputs": [],
   "source": [
    "# оценим пропуски\n",
    "display(df.loc[df['text'].isna()])\n",
    "\n",
    "# заменим одинокий пропуск\n",
    "df['text'] = df['text'].fillna('unknown')"
   ]
  },
  {
   "cell_type": "code",
   "execution_count": 27,
   "metadata": {},
   "outputs": [
    {
     "name": "stdout",
     "output_type": "stream",
     "text": [
      "CPU times: user 7.63 ms, sys: 352 µs, total: 7.99 ms\n",
      "Wall time: 7.56 ms\n"
     ]
    }
   ],
   "source": [
    "%%time\n",
    "# делим на таргет и фичи\n",
    "features = df.drop(['toxic'], axis=1)\n",
    "target = df['toxic']"
   ]
  },
  {
   "cell_type": "code",
   "execution_count": 28,
   "metadata": {
    "scrolled": true
   },
   "outputs": [
    {
     "data": {
      "text/plain": [
       "(94955, 111564)"
      ]
     },
     "metadata": {},
     "output_type": "display_data"
    },
    {
     "data": {
      "text/plain": [
       "(94955,)"
      ]
     },
     "metadata": {},
     "output_type": "display_data"
    },
    {
     "data": {
      "text/plain": [
       "(31652, 111564)"
      ]
     },
     "metadata": {},
     "output_type": "display_data"
    },
    {
     "data": {
      "text/plain": [
       "(31652,)"
      ]
     },
     "metadata": {},
     "output_type": "display_data"
    },
    {
     "data": {
      "text/plain": [
       "(31652, 111564)"
      ]
     },
     "metadata": {},
     "output_type": "display_data"
    },
    {
     "data": {
      "text/plain": [
       "(31652,)"
      ]
     },
     "metadata": {},
     "output_type": "display_data"
    }
   ],
   "source": [
    "# отделяем 60% данных для обучающей выборки\n",
    "features_train, features_temp, target_train, target_temp = train_test_split(features,\n",
    "                                                                            target,\n",
    "                                                                            test_size=0.40,\n",
    "                                                                            random_state=STATE,\n",
    "                                                                            stratify=target)\n",
    "# отделяем по 20% данных для валидационной/тестовой выборок\n",
    "features_valid, features_test, target_valid, target_test = train_test_split(features_temp,\n",
    "                                                                            target_temp,\n",
    "                                                                            test_size=0.50,\n",
    "                                                                            random_state=STATE)\n",
    "\n",
    "count_tf_idf = TfidfVectorizer(stop_words=stopwords)\n",
    "\n",
    "features_train = count_tf_idf.fit_transform(\n",
    "    features_train['text'].values)\n",
    "features_test = count_tf_idf.transform(\n",
    "    features_test['text'].values)\n",
    "features_valid = count_tf_idf.transform(\n",
    "    features_valid['text'].values)\n",
    "\n",
    "display(features_train.shape, target_train.shape, features_valid.shape,\n",
    "        target_valid.shape, features_test.shape, target_test.shape)"
   ]
  },
  {
   "cell_type": "markdown",
   "metadata": {},
   "source": [
    "###  Вывод:\n",
    "Проведена лемматизация текста, очищен от лишних символов. Итоговый результат был сохранен отдельным файлом .CSV для сокращения времени тестирования моделей. Выборка разделена на обучающую и тестовую 4:1. Выделены признаки и целевой признак. "
   ]
  },
  {
   "cell_type": "markdown",
   "metadata": {},
   "source": [
    "## Обучение"
   ]
  },
  {
   "cell_type": "code",
   "execution_count": 13,
   "metadata": {},
   "outputs": [],
   "source": [
    "# Функция объединения результатов обучения разных моделей\n",
    "def union_results(scores):\n",
    "    '''\n",
    "    Функция для объединения результатов обучения разных моделей\n",
    "    scores - список словарей results с результатами обучения на выходе функций с моделями\n",
    "    '''\n",
    "    # словарь с готовыми ключами и пустыми списками в нем\n",
    "    results = {i: [] for i in scores[0].keys()}\n",
    "\n",
    "    # собираем все результаты в словарь 'results'\n",
    "    for result in scores:\n",
    "        for key, value in result.items():\n",
    "            results[key].append(value)\n",
    "\n",
    "        # собираем результаты в таблицу\n",
    "    results = pd.DataFrame(results)\n",
    "    return results"
   ]
  },
  {
   "cell_type": "code",
   "execution_count": 14,
   "metadata": {},
   "outputs": [],
   "source": [
    "# Функция для получения модели с наилучшими гиперпараметрами с помощью optuna\n",
    "# простые модели -- DecisionTree/RandomForest/CatBoost/LGBM\n",
    "# вход: модель и тренировочные признаки\n",
    "# выход: модель с подобраными гиперпараметрами\n",
    "\n",
    "def tuning_optuna_cv(model, X, y, params=None, cv=5, timeseries_cv=0,\n",
    "                     n_trials=10, scoring=None, random_state=None, get_time=False, verbose=None, task_type=None):\n",
    "    \"\"\"\n",
    "    model - модель на вход\n",
    "    X - признаки\n",
    "    y - целевой признак\n",
    "    params - словарь параметров (должен быть заточен под оптюновский интерфейс)\n",
    "    cv_num - количество подвыборок для кросс-валидации\n",
    "    timeseries_cv - для временных рядов, количество подвыборок для кросс-валидации\n",
    "    n_trials - количество проводимых экспериментов для поиска гиперпараметров\n",
    "    scoring - метрика, на основе которой будут подбираться гиперпараметры модели; если не указана, используется встроенная\n",
    "                                        в модель метрика\n",
    "    get_time - получение затраченного времени на подбор гиперпараметров в минутах\n",
    "\n",
    "    \"\"\"\n",
    "    opt_distr_int = optuna.distributions.IntUniformDistribution\n",
    "    opt_distr_float = optuna.distributions.LogUniformDistribution\n",
    "\n",
    "    if timeseries_cv >= 2:\n",
    "        cv = TimeSeriesSplit(n_splits=timeseries_cv)\n",
    "\n",
    "    if get_time == True:\n",
    "        start_time = time.time()\n",
    "\n",
    "    if (type(model).__name__ == 'DecisionTreeRegressor' or\n",
    "            type(model).__name__ == 'DecisionTreeClassifier'):\n",
    "\n",
    "        param_distributions = {\n",
    "            'min_samples_leaf': opt_distr_int(2, 50),\n",
    "            'min_samples_split': opt_distr_int(2, 50),\n",
    "            'max_depth': opt_distr_int(1, 50)\n",
    "        }\n",
    "\n",
    "        if params != None:\n",
    "            param_distributions = params\n",
    "\n",
    "        optuna_search = OptunaSearchCV(\n",
    "            model, param_distributions, cv=cv,\n",
    "            n_trials=n_trials, scoring=scoring,\n",
    "            random_state=random_state\n",
    "        )\n",
    "        optuna_search.fit(X, y)\n",
    "\n",
    "        best_model = optuna_search.best_estimator_\n",
    "\n",
    "        print(f'Подобранные параметры модели: {optuna_search.best_params_}\\n')\n",
    "        print(f'Полученная метрика: {optuna_search.best_score_}\\n')\n",
    "\n",
    "        if get_time == True:\n",
    "            end_time = time.time() - start_time\n",
    "            print(f'Затраченное время на подбор: {end_time/60:.2f} мин')\n",
    "\n",
    "        return best_model\n",
    "\n",
    "    if (type(model).__name__ == 'RandomForestRegressor' or\n",
    "            type(model).__name__ == 'RandomForestClassifier'):\n",
    "\n",
    "        param_distributions = {\n",
    "            'n_estimators': opt_distr_int(50, 200),\n",
    "            'min_samples_split': opt_distr_int(2, 25),\n",
    "            'max_depth': opt_distr_int(1, 50),\n",
    "            'min_samples_leaf': opt_distr_int(2, 25)\n",
    "        }\n",
    "\n",
    "        if params != None:\n",
    "            param_distributions = params\n",
    "\n",
    "        optuna_search = OptunaSearchCV(\n",
    "            model, param_distributions, cv=cv,\n",
    "            n_trials=n_trials, scoring=scoring,\n",
    "            random_state=random_state\n",
    "        )\n",
    "        optuna_search.fit(X, y)\n",
    "\n",
    "        best_model = optuna_search.best_estimator_\n",
    "\n",
    "        print(f'Подобранные параметры модели: {optuna_search.best_params_}\\n')\n",
    "        print(f'Полученная метрика: {optuna_search.best_score_}\\n')\n",
    "\n",
    "        if get_time == True:\n",
    "            end_time = time.time() - start_time\n",
    "            print(f'Затраченное время на подбор: {end_time/60:.2f} мин')\n",
    "\n",
    "        return best_model\n",
    "\n",
    "    if (type(model).__name__ == 'CatBoostRegressor' or\n",
    "            type(model).__name__ == 'CatBoostClassifier'):\n",
    "\n",
    "        param_distributions = {\n",
    "            'iterations': opt_distr_int(50, 100),\n",
    "            'learning_rate': opt_distr_float(0.02, 0.04),\n",
    "            'depth': opt_distr_int(2, 10, 2)\n",
    "        }\n",
    "\n",
    "        if params != None:\n",
    "            param_distributions = params\n",
    "\n",
    "        optuna_search = OptunaSearchCV(\n",
    "            model, param_distributions, cv=cv,\n",
    "            n_trials=n_trials, scoring=scoring,\n",
    "            random_state=random_state, verbose=verbose\n",
    "        )\n",
    "        optuna_search.fit(X, y)\n",
    "\n",
    "        best_model = optuna_search.best_estimator_\n",
    "\n",
    "        print(f'Подобранные параметры модели: {optuna_search.best_params_}\\n')\n",
    "        print(f'Полученная метрика: {optuna_search.best_score_}\\n')\n",
    "\n",
    "        if get_time == True:\n",
    "            end_time = time.time() - start_time\n",
    "            print(f'Затраченное время на подбор: {end_time/60:.2f} мин')\n",
    "\n",
    "        return best_model\n",
    "\n",
    "    if (type(model).__name__ == 'LGBMRegressor' or\n",
    "            type(model).__name__ == 'LGBMClassifier'):\n",
    "\n",
    "        param_distributions = {\n",
    "            'n_estimators': opt_distr_int(10, 300),\n",
    "            'learning_rate': opt_distr_float(0.01, 1.0),\n",
    "            'max_depth': opt_distr_int(1, 16)\n",
    "        }\n",
    "\n",
    "        if params != None:\n",
    "            param_distributions = params\n",
    "\n",
    "        optuna_search = OptunaSearchCV(\n",
    "            model, param_distributions, cv=cv,\n",
    "            n_trials=n_trials, scoring=scoring,\n",
    "            random_state=random_state\n",
    "        )\n",
    "        optuna_search.fit(X, y)\n",
    "\n",
    "        best_model = optuna_search.best_estimator_\n",
    "\n",
    "        print(f'Подобранные параметры модели: {optuna_search.best_params_}\\n')\n",
    "        print(f'Полученная метрика: {optuna_search.best_score_}\\n')\n",
    "\n",
    "        if get_time == True:\n",
    "            end_time = time.time() - start_time\n",
    "            print(f'Затраченное время на подбор: {end_time/60:.2f} мин')\n",
    "\n",
    "        return best_model\n",
    "\n",
    "    else:\n",
    "        print('Модель не поддерживается! Попробуйте другую')"
   ]
  },
  {
   "cell_type": "code",
   "execution_count": 15,
   "metadata": {
    "code_folding": []
   },
   "outputs": [
    {
     "name": "stdout",
     "output_type": "stream",
     "text": [
      "Fitting 3 folds for each of 24 candidates, totalling 72 fits\n",
      "f1_valid: 0.7528604118993135\n",
      "\n",
      "лучшие параметры: {'C': 5.0, 'intercept_scaling': 45, 'penalty': 'l1', 'solver': 'liblinear'}\n",
      "CPU times: user 6min 7s, sys: 34.2 s, total: 6min 41s\n",
      "Wall time: 3min 56s\n"
     ]
    }
   ],
   "source": [
    "%%time\n",
    "# прогон по GS_CV LogisticRegression\n",
    "model = LogisticRegression(random_state=STATE, class_weight='balanced')\n",
    "params = {\n",
    "    'penalty': ['l1', 'l2'],\n",
    "    'C': [0.5, 1.0, 5.0, 15.0],\n",
    "    'intercept_scaling': range(5, 100, 40),\n",
    "    'solver': ['liblinear']\n",
    "}\n",
    "lr_gs = GridSearchCV(model, params, cv=3, scoring='f1',\n",
    "                     verbose=True).fit(features_train, target_train)\n",
    "target_predictions = lr_gs.predict(features_valid)\n",
    "f1_val = f1_score(target_valid, target_predictions)\n",
    "print('f1_valid:', f1_val)\n",
    "print()\n",
    "print('лучшие параметры:', lr_gs.best_params_)\n",
    "result = {'model': 'LogisticRegression_GS_CV', 'f1_valid': f1_val}\n",
    "\n",
    "# добавление словаря в список \"scores\"\n",
    "scores.append(result)\n"
   ]
  },
  {
   "cell_type": "code",
   "execution_count": 16,
   "metadata": {},
   "outputs": [
    {
     "name": "stdout",
     "output_type": "stream",
     "text": [
      "f1: 0.7542456140350877\n",
      "CPU times: user 5.14 s, sys: 1.45 s, total: 6.59 s\n",
      "Wall time: 956 ms\n"
     ]
    }
   ],
   "source": [
    "%%time\n",
    "# прогон по LogisticRegression c лучшими параметрами\n",
    "\n",
    "model = LogisticRegression(random_state=STATE, class_weight='balanced', C=5.0,\n",
    "                           intercept_scaling=5, penalty='l2', solver='liblinear')\n",
    "model.fit(features_train, target_train)\n",
    "prediction_lr = model.predict(features_valid)\n",
    "f1_lr = f1_score(target_valid, prediction_lr)\n",
    "print('f1:', f1_lr)\n",
    "\n",
    "result_lr = {'model': 'LogisticRegression_best', 'f1_valid': f1_lr}\n",
    "\n",
    "# добавление словаря в список \"scores\"\n",
    "scores.append(result_lr)"
   ]
  },
  {
   "cell_type": "code",
   "execution_count": 17,
   "metadata": {
    "code_folding": []
   },
   "outputs": [
    {
     "name": "stderr",
     "output_type": "stream",
     "text": [
      "\u001b[32m[I 2022-06-19 01:38:52,605]\u001b[0m A new study created in memory with name: no-name-0d71eb30-cca8-414e-ac57-f43455941a24\u001b[0m\n",
      "\u001b[32m[I 2022-06-19 01:39:34,598]\u001b[0m Trial 0 finished with value: 0.6925531832423767 and parameters: {'min_samples_leaf': 39, 'min_samples_split': 31, 'max_depth': 46}. Best is trial 0 with value: 0.6925531832423767.\u001b[0m\n",
      "\u001b[32m[I 2022-06-19 01:39:45,313]\u001b[0m Trial 1 finished with value: 0.5583262451509956 and parameters: {'min_samples_leaf': 7, 'min_samples_split': 50, 'max_depth': 6}. Best is trial 0 with value: 0.6925531832423767.\u001b[0m\n",
      "\u001b[32m[I 2022-06-19 01:39:59,434]\u001b[0m Trial 2 finished with value: 0.6450399623335127 and parameters: {'min_samples_leaf': 37, 'min_samples_split': 15, 'max_depth': 15}. Best is trial 0 with value: 0.6925531832423767.\u001b[0m\n",
      "\u001b[32m[I 2022-06-19 01:40:24,362]\u001b[0m Trial 3 finished with value: 0.7025275827106737 and parameters: {'min_samples_leaf': 23, 'min_samples_split': 26, 'max_depth': 44}. Best is trial 3 with value: 0.7025275827106737.\u001b[0m\n",
      "\u001b[32m[I 2022-06-19 01:40:40,124]\u001b[0m Trial 4 finished with value: 0.6616819447653072 and parameters: {'min_samples_leaf': 24, 'min_samples_split': 39, 'max_depth': 19}. Best is trial 3 with value: 0.7025275827106737.\u001b[0m\n"
     ]
    },
    {
     "name": "stdout",
     "output_type": "stream",
     "text": [
      "Подобранные параметры модели: {'min_samples_leaf': 23, 'min_samples_split': 26, 'max_depth': 44}\n",
      "\n",
      "Полученная метрика: 0.7025275827106737\n",
      "\n",
      "Затраченное время на подбор: 1.94 мин\n",
      "CPU times: user 1min 40s, sys: 490 ms, total: 1min 41s\n",
      "Wall time: 1min 56s\n"
     ]
    }
   ],
   "source": [
    "%%time\n",
    "# прогон по DecisionTreeClassifier с optuna\n",
    "\n",
    "model_dtc = tuning_optuna_cv(DecisionTreeClassifier(), features_train, target_train, params=None,\n",
    "                             cv=3, timeseries_cv=0, n_trials=5, scoring='f1', random_state=STATE, get_time=True)\n",
    "\n",
    "prediction_dtc = model_dtc.predict(features_valid)\n",
    "f1_dtc = f1_score(target_valid, prediction_dtc)\n",
    "\n",
    "# print('f1:', f1_dtc)\n",
    "\n",
    "result_dtc = {'model': 'DecisionTreeClassifier_OPT', 'f1_valid': f1_dtc}\n",
    "\n",
    "# добавление словаря в список \"scores\"\n",
    "scores.append(result_dtc)\n"
   ]
  },
  {
   "cell_type": "code",
   "execution_count": 18,
   "metadata": {},
   "outputs": [
    {
     "name": "stdout",
     "output_type": "stream",
     "text": [
      "Fitting 5 folds for each of 6 candidates, totalling 30 fits\n",
      "лучший результат f1: 0.6138010715245692\n",
      "\n",
      "лучшие параметры: {'criterion': 'gini', 'max_depth': 11}\n",
      "f1_valid: 0.6114701130856219\n",
      "CPU times: user 2min 28s, sys: 230 ms, total: 2min 29s\n",
      "Wall time: 2min 29s\n"
     ]
    }
   ],
   "source": [
    "%%time\n",
    "# прогон по GS_CV DecisionTreeClassifier\n",
    "tree = DecisionTreeClassifier(random_state=STATE)\n",
    "params = {\n",
    "    'criterion': ['gini', 'entropy'],\n",
    "    'max_depth': list(range(1, 15, 5))\n",
    "}\n",
    "tree_gs_dtc = GridSearchCV(tree, params, cv=5, scoring='f1', verbose=True).fit(\n",
    "    features_train, target_train)\n",
    "prediction_tree = tree_gs_dtc.predict(features_valid)\n",
    "f1_val = f1_score(target_valid, prediction_tree)\n",
    "print('лучший результат f1:', tree_gs_dtc.best_score_)\n",
    "print()\n",
    "print('лучшие параметры:', tree_gs_dtc.best_params_)\n",
    "\n",
    "print('f1_valid:', f1_val)\n",
    "\n",
    "result_gs_dtc = {'model': 'DecisionTreeClassifier_GS',\n",
    "                 'f1_valid': f1_val}\n",
    "\n",
    "# добавление словаря в список \"scores\"\n",
    "scores.append(result_gs_dtc)\n"
   ]
  },
  {
   "cell_type": "code",
   "execution_count": 19,
   "metadata": {},
   "outputs": [
    {
     "name": "stdout",
     "output_type": "stream",
     "text": [
      "Fitting 3 folds for each of 27 candidates, totalling 81 fits\n",
      "f1_valid: 0.03092783505154639\n",
      "\n",
      "лучшие параметры: {'max_depth': 50, 'max_leaf_nodes': 50, 'n_estimators': 10}\n",
      "CPU times: user 11min 6s, sys: 1.7 s, total: 11min 8s\n",
      "Wall time: 11min 8s\n"
     ]
    }
   ],
   "source": [
    "%%time\n",
    "# прогон по GS_CV RandomForestClassifier\n",
    "model = RandomForestClassifier(random_state=STATE)\n",
    "params = {\n",
    "    'n_estimators': range(10, 120, 40),\n",
    "    'max_depth': range(10, 120, 40),\n",
    "    'max_leaf_nodes': range(10, 60, 20)\n",
    "}\n",
    "tree_gs_rfc = GridSearchCV(model, params, cv=3, scoring='f1', verbose=True).fit(\n",
    "    features_train, target_train)\n",
    "target_predictions = tree_gs_rfc.predict(features_valid)\n",
    "f1_val = f1_score(target_valid, target_predictions)\n",
    "print('f1_valid:', f1_val)\n",
    "print()\n",
    "print('лучшие параметры:', tree_gs_rfc.best_params_)\n",
    "\n",
    "result_gs_rfc = {'model': 'RandomForestClassifier_GS',\n",
    "                 'f1_valid': f1_val}\n",
    "\n",
    "# добавление словаря в список \"scores\"\n",
    "scores.append(result_gs_rfc)\n"
   ]
  },
  {
   "cell_type": "code",
   "execution_count": 20,
   "metadata": {},
   "outputs": [
    {
     "name": "stderr",
     "output_type": "stream",
     "text": [
      "\u001b[32m[I 2022-06-19 01:54:26,861]\u001b[0m A new study created in memory with name: no-name-add7a168-2340-4bd2-812f-84232c108e26\u001b[0m\n",
      "\u001b[32m[I 2022-06-19 01:57:28,773]\u001b[0m Trial 0 finished with value: 0.028160389103455762 and parameters: {'n_estimators': 165, 'min_samples_split': 16, 'max_depth': 46, 'min_samples_leaf': 4}. Best is trial 0 with value: 0.028160389103455762.\u001b[0m\n",
      "\u001b[32m[I 2022-06-19 02:00:22,876]\u001b[0m Trial 1 finished with value: 0.011317103366899096 and parameters: {'n_estimators': 200, 'min_samples_split': 4, 'max_depth': 37, 'min_samples_leaf': 8}. Best is trial 0 with value: 0.028160389103455762.\u001b[0m\n",
      "\u001b[32m[I 2022-06-19 02:01:18,188]\u001b[0m Trial 2 finished with value: 0.00020697505950532965 and parameters: {'n_estimators': 93, 'min_samples_split': 12, 'max_depth': 26, 'min_samples_leaf': 22}. Best is trial 0 with value: 0.028160389103455762.\u001b[0m\n",
      "\u001b[32m[I 2022-06-19 02:02:13,168]\u001b[0m Trial 3 finished with value: 0.00020697505950532965 and parameters: {'n_estimators': 120, 'min_samples_split': 20, 'max_depth': 19, 'min_samples_leaf': 20}. Best is trial 0 with value: 0.028160389103455762.\u001b[0m\n",
      "\u001b[32m[I 2022-06-19 02:04:20,522]\u001b[0m Trial 4 finished with value: 0.002893993921671223 and parameters: {'n_estimators': 182, 'min_samples_split': 11, 'max_depth': 29, 'min_samples_leaf': 9}. Best is trial 0 with value: 0.028160389103455762.\u001b[0m\n"
     ]
    },
    {
     "name": "stdout",
     "output_type": "stream",
     "text": [
      "Подобранные параметры модели: {'n_estimators': 165, 'min_samples_split': 16, 'max_depth': 46, 'min_samples_leaf': 4}\n",
      "\n",
      "Полученная метрика: 0.028160389103455762\n",
      "\n",
      "Затраченное время на подбор: 10.02 мин\n",
      "CPU times: user 10min 1s, sys: 1.07 s, total: 10min 2s\n",
      "Wall time: 10min 2s\n"
     ]
    }
   ],
   "source": [
    "%%time\n",
    "# прогон по RandomForestClassifier с optuna\n",
    "model_rfc = tuning_optuna_cv(RandomForestClassifier(), features_train, target_train, params=None,\n",
    "                             cv=3, timeseries_cv=0, n_trials=5, scoring='f1', random_state=STATE, get_time=True)\n",
    "\n",
    "prediction_rfc = model_rfc.predict(features_valid)\n",
    "f1_rfc = f1_score(target_valid, prediction_rfc)\n",
    "\n",
    "# print('f1:', f1_rfc)\n",
    "\n",
    "result_rfc = {'model': 'RandomForestClassifier_OPT', 'f1_valid': f1_rfc}\n",
    "\n",
    "# добавление словаря в список \"scores\"\n",
    "scores.append(result_rfc)\n"
   ]
  },
  {
   "cell_type": "raw",
   "metadata": {
    "code_folding": []
   },
   "source": [
    "%%time\n",
    "# прогон по CatBoostClassifier с optuna\n",
    "\n",
    "model_cbc = tuning_optuna_cv(CatBoostClassifier(), features_train, target_train, params=None,\n",
    "                            cv=3, timeseries_cv=0, n_trials=3, scoring='f1', random_state=STATE,\n",
    "                             get_time=True, verbose=20, task_type='GPU')\n",
    "\n",
    "# model_cbc = CatBoostClassifier(iterations=79, learning_rate=0.029779966140326342, depth=10)\n",
    "\n",
    "prediction_cbc = model_cbc.predict(features_valid)\n",
    "f1_cbc = f1_score(target_valid, prediction_cbc)\n",
    "\n",
    "result_cbc = {'model': 'CatBoostClassifier_OPT', 'f1_valid': f1_cbc}\n",
    "\n",
    "# добавление словаря в список \"scores\"\n",
    "scores.append(result_cbc)\n",
    "\n",
    "\n",
    "# Подобранные параметры модели: {'iterations': 79, 'learning_rate': 0.029779966140326342, 'depth': 10}\n",
    "# Полученная метрика: 0.5755726712203896\n",
    "# Затраченное время на подбор: 49.20 мин\n",
    "#f1: 0.5782459157351677\n",
    "# CPU times: user 1h 58min 54s, sys: 1min 2s, total: 1h 59min 56s\n",
    "# Wall time: 49min 12s"
   ]
  },
  {
   "cell_type": "code",
   "execution_count": 21,
   "metadata": {
    "code_folding": []
   },
   "outputs": [
    {
     "name": "stderr",
     "output_type": "stream",
     "text": [
      "\u001b[32m[I 2022-06-19 02:04:29,152]\u001b[0m A new study created in memory with name: no-name-c5786aab-7b24-4d21-9ee2-db7209261d8c\u001b[0m\n",
      "\u001b[32m[I 2022-06-19 02:05:22,205]\u001b[0m Trial 0 finished with value: 0.7558349882575222 and parameters: {'n_estimators': 232, 'learning_rate': 0.16522559799629474, 'max_depth': 15}. Best is trial 0 with value: 0.7558349882575222.\u001b[0m\n",
      "\u001b[32m[I 2022-06-19 02:05:32,414]\u001b[0m Trial 1 finished with value: 0.6551098657510904 and parameters: {'n_estimators': 44, 'learning_rate': 0.97320861463424, 'max_depth': 2}. Best is trial 0 with value: 0.7558349882575222.\u001b[0m\n",
      "\u001b[32m[I 2022-06-19 02:06:04,950]\u001b[0m Trial 2 finished with value: 0.6196612279431908 and parameters: {'n_estimators': 223, 'learning_rate': 0.03667544624096302, 'max_depth': 5}. Best is trial 0 with value: 0.7558349882575222.\u001b[0m\n",
      "\u001b[32m[I 2022-06-19 02:06:42,753]\u001b[0m Trial 3 finished with value: 0.7263680332172895 and parameters: {'n_estimators': 136, 'learning_rate': 0.10216395038172299, 'max_depth': 14}. Best is trial 0 with value: 0.7558349882575222.\u001b[0m\n",
      "\u001b[32m[I 2022-06-19 02:07:06,304]\u001b[0m Trial 4 finished with value: 0.7418126288664889 and parameters: {'n_estimators': 145, 'learning_rate': 0.336169501733233, 'max_depth': 6}. Best is trial 0 with value: 0.7558349882575222.\u001b[0m\n",
      "\u001b[32m[I 2022-06-19 02:07:39,526]\u001b[0m Trial 5 finished with value: 0.7400380326756243 and parameters: {'n_estimators': 228, 'learning_rate': 0.5767803730680693, 'max_depth': 7}. Best is trial 0 with value: 0.7558349882575222.\u001b[0m\n",
      "\u001b[32m[I 2022-06-19 02:08:25,749]\u001b[0m Trial 6 finished with value: 0.6711068242800794 and parameters: {'n_estimators': 176, 'learning_rate': 0.03995619683071353, 'max_depth': 11}. Best is trial 0 with value: 0.7558349882575222.\u001b[0m\n",
      "\u001b[32m[I 2022-06-19 02:08:43,773]\u001b[0m Trial 7 finished with value: 0.42942168137407 and parameters: {'n_estimators': 236, 'learning_rate': 0.03757660312047133, 'max_depth': 1}. Best is trial 0 with value: 0.7558349882575222.\u001b[0m\n",
      "\u001b[32m[I 2022-06-19 02:09:56,218]\u001b[0m Trial 8 finished with value: 0.7464896943536136 and parameters: {'n_estimators': 275, 'learning_rate': 0.5764272590107025, 'max_depth': 10}. Best is trial 0 with value: 0.7558349882575222.\u001b[0m\n",
      "\u001b[32m[I 2022-06-19 02:10:11,158]\u001b[0m Trial 9 finished with value: 0.7103691299223078 and parameters: {'n_estimators': 49, 'learning_rate': 0.3335724648141934, 'max_depth': 7}. Best is trial 0 with value: 0.7558349882575222.\u001b[0m\n"
     ]
    },
    {
     "name": "stdout",
     "output_type": "stream",
     "text": [
      "Подобранные параметры модели: {'n_estimators': 232, 'learning_rate': 0.16522559799629474, 'max_depth': 15}\n",
      "\n",
      "Полученная метрика: 0.7558349882575222\n",
      "\n",
      "Затраченное время на подбор: 5.92 мин\n",
      "CPU times: user 39min 2s, sys: 3min 37s, total: 42min 39s\n",
      "Wall time: 5min 55s\n"
     ]
    }
   ],
   "source": [
    "%%time\n",
    "# прогон по LGBMClassifier с optuna\n",
    "\n",
    "model_lgbm = tuning_optuna_cv(LGBMClassifier(), features_train, target_train, params=None,\n",
    "                              cv=5, timeseries_cv=0, n_trials=10, scoring='f1', random_state=STATE, get_time=True)\n",
    "\n",
    "prediction_lgbm = model_lgbm.predict(features_valid)\n",
    "f1_lgbm = f1_score(target_valid, prediction_lgbm)\n",
    "\n",
    "result_lgbm = {'model': 'LGBMClassifier_OPT', 'f1_valid': f1_lgbm}\n",
    "\n",
    "# добавление словаря в список \"scores\"\n",
    "scores.append(result_lgbm)\n"
   ]
  },
  {
   "cell_type": "code",
   "execution_count": 27,
   "metadata": {},
   "outputs": [
    {
     "data": {
      "text/html": [
       "<div>\n",
       "<style scoped>\n",
       "    .dataframe tbody tr th:only-of-type {\n",
       "        vertical-align: middle;\n",
       "    }\n",
       "\n",
       "    .dataframe tbody tr th {\n",
       "        vertical-align: top;\n",
       "    }\n",
       "\n",
       "    .dataframe thead th {\n",
       "        text-align: right;\n",
       "    }\n",
       "</style>\n",
       "<table border=\"1\" class=\"dataframe\">\n",
       "  <thead>\n",
       "    <tr style=\"text-align: right;\">\n",
       "      <th></th>\n",
       "      <th>model</th>\n",
       "      <th>f1_valid</th>\n",
       "    </tr>\n",
       "  </thead>\n",
       "  <tbody>\n",
       "    <tr>\n",
       "      <th>0</th>\n",
       "      <td>LogisticRegression_GS_CV</td>\n",
       "      <td>0.752860</td>\n",
       "    </tr>\n",
       "    <tr>\n",
       "      <th>1</th>\n",
       "      <td>LogisticRegression_best</td>\n",
       "      <td>0.754246</td>\n",
       "    </tr>\n",
       "    <tr>\n",
       "      <th>2</th>\n",
       "      <td>DecisionTreeClassifier_OPT</td>\n",
       "      <td>0.695903</td>\n",
       "    </tr>\n",
       "    <tr>\n",
       "      <th>3</th>\n",
       "      <td>DecisionTreeClassifier_GS</td>\n",
       "      <td>0.611470</td>\n",
       "    </tr>\n",
       "    <tr>\n",
       "      <th>4</th>\n",
       "      <td>RandomForestClassifier_GS</td>\n",
       "      <td>0.030928</td>\n",
       "    </tr>\n",
       "    <tr>\n",
       "      <th>5</th>\n",
       "      <td>RandomForestClassifier_OPT</td>\n",
       "      <td>0.024338</td>\n",
       "    </tr>\n",
       "    <tr>\n",
       "      <th>6</th>\n",
       "      <td>LGBMClassifier_OPT</td>\n",
       "      <td>0.762547</td>\n",
       "    </tr>\n",
       "  </tbody>\n",
       "</table>\n",
       "</div>"
      ],
      "text/plain": [
       "                        model  f1_valid\n",
       "0    LogisticRegression_GS_CV  0.752860\n",
       "1     LogisticRegression_best  0.754246\n",
       "2  DecisionTreeClassifier_OPT  0.695903\n",
       "3   DecisionTreeClassifier_GS  0.611470\n",
       "4   RandomForestClassifier_GS  0.030928\n",
       "5  RandomForestClassifier_OPT  0.024338\n",
       "6          LGBMClassifier_OPT  0.762547"
      ]
     },
     "execution_count": 27,
     "metadata": {},
     "output_type": "execute_result"
    }
   ],
   "source": [
    "# оценим табличку валидационных результатов по F1\n",
    "union_results(scores)"
   ]
  },
  {
   "cell_type": "code",
   "execution_count": 31,
   "metadata": {},
   "outputs": [
    {
     "name": "stdout",
     "output_type": "stream",
     "text": [
      "f1_test_LGBM: 0.7624466571834992\n",
      "CPU times: user 3.26 s, sys: 31.4 ms, total: 3.29 s\n",
      "Wall time: 434 ms\n"
     ]
    }
   ],
   "source": [
    "%%time\n",
    "# пройдемся лучшей вариацией LGBMClassifier по тестовой выборке \n",
    "prediction_lgbm_test = model_lgbm.predict(features_test)\n",
    "f1_lgbm_test = f1_score(target_test, prediction_lgbm_test)\n",
    "print('f1_test_LGBM:', f1_lgbm_test)"
   ]
  },
  {
   "cell_type": "code",
   "execution_count": 32,
   "metadata": {},
   "outputs": [
    {
     "name": "stdout",
     "output_type": "stream",
     "text": [
      "f1_test_LR: 0.7541786743515851\n",
      "CPU times: user 11.3 ms, sys: 890 µs, total: 12.2 ms\n",
      "Wall time: 11.1 ms\n"
     ]
    }
   ],
   "source": [
    "%%time\n",
    "# пройдемся лучшей вариацией LR по тестовой выборке \n",
    "\n",
    "target_predictions_test = lr_gs.predict(features_test)\n",
    "f1_lr_test = f1_score(target_test, target_predictions_test)\n",
    "print('f1_test_LR:', f1_lr_test)"
   ]
  },
  {
   "cell_type": "markdown",
   "metadata": {},
   "source": [
    "###  Вывод:\n",
    "F1 более 75 % получено в моделях Логистической регрессии с небольшим перебором параметров и в модели LGBMClassifier с подбором параметров с помощью OPTUNA. Результаты достаточно предсказуемы. Удивило, что случайный лес показал столь низкий результат(f1: 0.02740) в работе с текстами по сравнению с остальными моделями. По скорости работы в соотношении с качеством предсказаний, пожалуй, стоит остановиться на модели LogisticRegression. 12.2 ms в сравнении с 3.29 s от LGBMClassifier."
   ]
  },
  {
   "cell_type": "markdown",
   "metadata": {},
   "source": [
    "## Матрица ошибок"
   ]
  },
  {
   "cell_type": "code",
   "execution_count": 35,
   "metadata": {},
   "outputs": [
    {
     "data": {
      "text/plain": [
       "<Figure size 1152x576 with 0 Axes>"
      ]
     },
     "metadata": {},
     "output_type": "display_data"
    },
    {
     "data": {
      "image/png": "[encoded data removed]",
      "text/plain": [
       "<Figure size 432x288 with 2 Axes>"
      ]
     },
     "metadata": {
      "needs_background": "light"
     },
     "output_type": "display_data"
    }
   ],
   "source": [
    "# Матрица ошибок LGBMClassifier\n",
    "confusion_matrix(target_test, prediction_lgbm_test)\n",
    "\n",
    "plt.figure(figsize=(16, 8))\n",
    "\n",
    "(ConfusionMatrixDisplay(confusion_matrix(target_test, prediction_lgbm_test))).plot()\n",
    "plt.show()\n"
   ]
  },
  {
   "cell_type": "code",
   "execution_count": 34,
   "metadata": {},
   "outputs": [
    {
     "data": {
      "text/plain": [
       "<Figure size 1152x576 with 0 Axes>"
      ]
     },
     "metadata": {},
     "output_type": "display_data"
    },
    {
     "data": {
      "image/png": "[encoded data removed]",
      "text/plain": [
       "<Figure size 432x288 with 2 Axes>"
      ]
     },
     "metadata": {
      "needs_background": "light"
     },
     "output_type": "display_data"
    }
   ],
   "source": [
    "# Матрица ошибок LR\n",
    "confusion_matrix(target_test, target_predictions_test)\n",
    "\n",
    "plt.figure(figsize=(16, 8))\n",
    "(ConfusionMatrixDisplay(confusion_matrix(target_test, target_predictions_test))).plot()\n",
    "plt.show()"
   ]
  },
  {
   "cell_type": "markdown",
   "metadata": {},
   "source": [
    "###  Вывод:\n",
    "LGBMClassifier предсказыавет неверные значения с вероятностью 4.4%  - вполне допустимая погрешность. \n",
    "LogisticRegression предсказыавет неверные значения с вероятностью 5.8% - разница в полтора процента с LGBMClassifier, при этом скорость обучения выше в несколько десятков раз. "
   ]
  },
  {
   "cell_type": "markdown",
   "metadata": {},
   "source": [
    "## Общий вывод:\n",
    "Проанализированы, почищены и закодированы исходные данные. Проедено разделение на тестовую, валидационную и обучающую выборки. Обучено 5 моделей классификации, подобраны оптимальные гиперпараметры по гармоническому среднему между точностью и полнотой('F1'). Выделены оптимальные модели по качеству данной метрики('LGBMClassifier/LogisticRegression'). Приведён анализ по скорости работы моделей и по матрицам неточностей. По суммарным параметрам выбрана модель LogisticRegression для постоянного использования. "
   ]
  }
 ],
 "metadata": {
  "ExecuteTimeLog": [
   {
    "duration": 11,
    "start_time": "2022-06-17T08:47:46.167Z"
   },
   {
    "duration": 1644,
    "start_time": "2022-06-17T08:49:27.871Z"
   },
   {
    "duration": 0,
    "start_time": "2022-06-17T08:49:29.516Z"
   },
   {
    "duration": 6,
    "start_time": "2022-06-17T08:49:29.730Z"
   },
   {
    "duration": 2,
    "start_time": "2022-06-17T08:49:30.979Z"
   },
   {
    "duration": 12,
    "start_time": "2022-06-17T08:49:31.516Z"
   },
   {
    "duration": 2146,
    "start_time": "2022-06-17T08:49:44.703Z"
   },
   {
    "duration": 7,
    "start_time": "2022-06-17T08:49:53.716Z"
   },
   {
    "duration": 752,
    "start_time": "2022-06-17T08:50:03.734Z"
   },
   {
    "duration": 6,
    "start_time": "2022-06-17T08:50:04.488Z"
   },
   {
    "duration": 2,
    "start_time": "2022-06-17T08:50:04.756Z"
   },
   {
    "duration": 4,
    "start_time": "2022-06-17T08:50:05.083Z"
   },
   {
    "duration": 17,
    "start_time": "2022-06-17T08:50:08.118Z"
   },
   {
    "duration": 2173,
    "start_time": "2022-06-17T09:20:38.610Z"
   },
   {
    "duration": 0,
    "start_time": "2022-06-17T09:20:40.785Z"
   },
   {
    "duration": 0,
    "start_time": "2022-06-17T09:20:40.786Z"
   },
   {
    "duration": 2,
    "start_time": "2022-06-17T09:22:20.731Z"
   },
   {
    "duration": 13,
    "start_time": "2022-06-17T09:22:21.755Z"
   },
   {
    "duration": 13,
    "start_time": "2022-06-17T09:22:39.786Z"
   },
   {
    "duration": 5350,
    "start_time": "2022-06-17T09:23:04.170Z"
   },
   {
    "duration": 2849,
    "start_time": "2022-06-17T09:23:12.522Z"
   },
   {
    "duration": 3160,
    "start_time": "2022-06-17T09:23:17.633Z"
   },
   {
    "duration": 5,
    "start_time": "2022-06-17T09:23:22.106Z"
   },
   {
    "duration": 2,
    "start_time": "2022-06-17T09:23:25.842Z"
   },
   {
    "duration": 4,
    "start_time": "2022-06-17T09:23:26.402Z"
   },
   {
    "duration": 191,
    "start_time": "2022-06-17T09:23:27.161Z"
   },
   {
    "duration": 735,
    "start_time": "2022-06-17T09:24:19.079Z"
   },
   {
    "duration": 5,
    "start_time": "2022-06-17T09:24:20.370Z"
   },
   {
    "duration": 2,
    "start_time": "2022-06-17T09:24:23.705Z"
   },
   {
    "duration": 4,
    "start_time": "2022-06-17T09:24:25.352Z"
   },
   {
    "duration": 620,
    "start_time": "2022-06-17T09:24:26.297Z"
   },
   {
    "duration": 32,
    "start_time": "2022-06-17T09:26:41.064Z"
   },
   {
    "duration": 7,
    "start_time": "2022-06-17T09:26:44.030Z"
   },
   {
    "duration": 249,
    "start_time": "2022-06-17T09:26:44.824Z"
   },
   {
    "duration": 279,
    "start_time": "2022-06-17T09:27:10.690Z"
   },
   {
    "duration": 408,
    "start_time": "2022-06-17T09:27:23.209Z"
   },
   {
    "duration": 4,
    "start_time": "2022-06-17T09:27:28.295Z"
   },
   {
    "duration": 39049,
    "start_time": "2022-06-17T09:27:30.336Z"
   },
   {
    "duration": 15,
    "start_time": "2022-06-17T09:28:09.387Z"
   },
   {
    "duration": 43,
    "start_time": "2022-06-17T09:30:00.485Z"
   },
   {
    "duration": 6,
    "start_time": "2022-06-17T09:30:29.495Z"
   },
   {
    "duration": 7,
    "start_time": "2022-06-17T09:30:35.095Z"
   },
   {
    "duration": 3,
    "start_time": "2022-06-17T09:30:43.282Z"
   },
   {
    "duration": 4617,
    "start_time": "2022-06-17T09:30:43.287Z"
   },
   {
    "duration": 734,
    "start_time": "2022-06-17T09:30:47.906Z"
   },
   {
    "duration": 6,
    "start_time": "2022-06-17T09:30:48.642Z"
   },
   {
    "duration": 288,
    "start_time": "2022-06-17T09:30:48.649Z"
   },
   {
    "duration": 0,
    "start_time": "2022-06-17T09:30:48.938Z"
   },
   {
    "duration": 0,
    "start_time": "2022-06-17T09:30:48.939Z"
   },
   {
    "duration": 0,
    "start_time": "2022-06-17T09:30:48.940Z"
   },
   {
    "duration": 5,
    "start_time": "2022-06-17T09:32:21.608Z"
   },
   {
    "duration": 16,
    "start_time": "2022-06-17T09:32:22.966Z"
   },
   {
    "duration": 4,
    "start_time": "2022-06-17T09:32:32.910Z"
   },
   {
    "duration": 7,
    "start_time": "2022-06-17T09:32:40.303Z"
   },
   {
    "duration": 42,
    "start_time": "2022-06-17T09:32:41.510Z"
   },
   {
    "duration": 5,
    "start_time": "2022-06-17T09:33:05.662Z"
   },
   {
    "duration": 3,
    "start_time": "2022-06-17T09:33:06.398Z"
   },
   {
    "duration": 37,
    "start_time": "2022-06-17T09:33:07.976Z"
   },
   {
    "duration": 5,
    "start_time": "2022-06-17T09:33:43.150Z"
   },
   {
    "duration": 33,
    "start_time": "2022-06-17T09:33:45.983Z"
   },
   {
    "duration": 6,
    "start_time": "2022-06-17T09:34:02.519Z"
   },
   {
    "duration": 33,
    "start_time": "2022-06-17T09:34:05.207Z"
   },
   {
    "duration": 5,
    "start_time": "2022-06-17T09:34:24.894Z"
   },
   {
    "duration": 37,
    "start_time": "2022-06-17T09:34:27.862Z"
   },
   {
    "duration": 6,
    "start_time": "2022-06-17T09:34:43.014Z"
   },
   {
    "duration": 3,
    "start_time": "2022-06-17T09:34:43.389Z"
   },
   {
    "duration": 35,
    "start_time": "2022-06-17T09:34:45.159Z"
   },
   {
    "duration": 5,
    "start_time": "2022-06-17T09:35:07.199Z"
   },
   {
    "duration": 3,
    "start_time": "2022-06-17T09:35:07.485Z"
   },
   {
    "duration": 5,
    "start_time": "2022-06-17T09:35:52.854Z"
   },
   {
    "duration": 4,
    "start_time": "2022-06-17T09:35:53.309Z"
   },
   {
    "duration": 55,
    "start_time": "2022-06-17T09:35:59.629Z"
   },
   {
    "duration": 8,
    "start_time": "2022-06-17T09:36:30.558Z"
   },
   {
    "duration": 36,
    "start_time": "2022-06-17T09:36:35.229Z"
   },
   {
    "duration": 4,
    "start_time": "2022-06-17T09:37:17.877Z"
   },
   {
    "duration": 3,
    "start_time": "2022-06-17T09:37:18.213Z"
   },
   {
    "duration": 30,
    "start_time": "2022-06-17T09:37:19.565Z"
   },
   {
    "duration": 5,
    "start_time": "2022-06-17T09:37:41.085Z"
   },
   {
    "duration": 2,
    "start_time": "2022-06-17T09:37:41.645Z"
   },
   {
    "duration": 36,
    "start_time": "2022-06-17T09:37:47.842Z"
   },
   {
    "duration": 2,
    "start_time": "2022-06-17T09:37:59.276Z"
   },
   {
    "duration": 17,
    "start_time": "2022-06-17T09:45:20.698Z"
   },
   {
    "duration": 4,
    "start_time": "2022-06-17T09:46:21.201Z"
   },
   {
    "duration": 31,
    "start_time": "2022-06-17T09:46:30.729Z"
   },
   {
    "duration": 3,
    "start_time": "2022-06-17T09:52:00.081Z"
   },
   {
    "duration": 4262,
    "start_time": "2022-06-17T09:52:00.086Z"
   },
   {
    "duration": 751,
    "start_time": "2022-06-17T09:52:04.350Z"
   },
   {
    "duration": 5,
    "start_time": "2022-06-17T09:52:05.103Z"
   },
   {
    "duration": 68,
    "start_time": "2022-06-17T09:52:05.109Z"
   },
   {
    "duration": 11,
    "start_time": "2022-06-17T09:52:05.180Z"
   },
   {
    "duration": 9,
    "start_time": "2022-06-17T09:52:05.192Z"
   },
   {
    "duration": 1038456,
    "start_time": "2022-06-17T09:52:05.226Z"
   },
   {
    "duration": 9,
    "start_time": "2022-06-17T10:09:23.684Z"
   },
   {
    "duration": 5883,
    "start_time": "2022-06-17T10:09:23.694Z"
   },
   {
    "duration": 4,
    "start_time": "2022-06-17T10:09:29.579Z"
   },
   {
    "duration": 13,
    "start_time": "2022-06-17T10:09:29.585Z"
   },
   {
    "duration": 858949,
    "start_time": "2022-06-17T10:09:29.599Z"
   },
   {
    "duration": 24108,
    "start_time": "2022-06-17T10:23:48.550Z"
   },
   {
    "duration": 190579,
    "start_time": "2022-06-17T10:24:12.661Z"
   },
   {
    "duration": 251062,
    "start_time": "2022-06-17T10:27:23.241Z"
   },
   {
    "duration": 909527,
    "start_time": "2022-06-17T10:31:34.305Z"
   },
   {
    "duration": 845119,
    "start_time": "2022-06-17T10:46:43.833Z"
   },
   {
    "duration": 4014279,
    "start_time": "2022-06-17T11:00:48.954Z"
   },
   {
    "duration": 7,
    "start_time": "2022-06-17T12:07:43.235Z"
   },
   {
    "duration": 172,
    "start_time": "2022-06-17T12:07:43.243Z"
   },
   {
    "duration": 164,
    "start_time": "2022-06-17T12:07:43.416Z"
   },
   {
    "duration": 48,
    "start_time": "2022-06-17T23:32:54.728Z"
   },
   {
    "duration": 1779,
    "start_time": "2022-06-17T23:33:01.394Z"
   },
   {
    "duration": 5725,
    "start_time": "2022-06-17T23:33:11.426Z"
   },
   {
    "duration": 3862,
    "start_time": "2022-06-17T23:33:17.555Z"
   },
   {
    "duration": 5,
    "start_time": "2022-06-17T23:33:30.427Z"
   },
   {
    "duration": 4,
    "start_time": "2022-06-17T23:33:39.003Z"
   },
   {
    "duration": 13,
    "start_time": "2022-06-17T23:33:41.068Z"
   },
   {
    "duration": 220,
    "start_time": "2022-06-17T23:33:48.738Z"
   },
   {
    "duration": 1866,
    "start_time": "2022-06-20T07:26:41.446Z"
   },
   {
    "duration": 0,
    "start_time": "2022-06-20T07:26:43.314Z"
   },
   {
    "duration": 0,
    "start_time": "2022-06-20T07:26:43.315Z"
   },
   {
    "duration": 0,
    "start_time": "2022-06-20T07:26:43.316Z"
   },
   {
    "duration": 0,
    "start_time": "2022-06-20T07:26:43.317Z"
   },
   {
    "duration": 14,
    "start_time": "2022-06-20T07:26:43.853Z"
   },
   {
    "duration": 80336,
    "start_time": "2022-06-20T07:27:03.670Z"
   },
   {
    "duration": 2638,
    "start_time": "2022-06-20T07:28:28.442Z"
   },
   {
    "duration": 5,
    "start_time": "2022-06-20T07:28:31.115Z"
   },
   {
    "duration": 49,
    "start_time": "2022-06-20T07:28:34.742Z"
   },
   {
    "duration": 16,
    "start_time": "2022-06-20T07:28:34.921Z"
   },
   {
    "duration": 5,
    "start_time": "2022-06-20T07:28:35.463Z"
   },
   {
    "duration": 786,
    "start_time": "2022-06-20T07:28:41.299Z"
   },
   {
    "duration": 754,
    "start_time": "2022-06-20T07:29:01.958Z"
   },
   {
    "duration": 963,
    "start_time": "2022-06-20T07:29:04.615Z"
   },
   {
    "duration": 5,
    "start_time": "2022-06-20T07:29:05.580Z"
   },
   {
    "duration": 53,
    "start_time": "2022-06-20T07:29:06.009Z"
   },
   {
    "duration": 17,
    "start_time": "2022-06-20T07:29:06.423Z"
   },
   {
    "duration": 5,
    "start_time": "2022-06-20T07:29:06.673Z"
   },
   {
    "duration": 1129219,
    "start_time": "2022-06-20T07:29:07.044Z"
   },
   {
    "duration": 5,
    "start_time": "2022-06-20T07:49:32.997Z"
   },
   {
    "duration": 27,
    "start_time": "2022-06-20T07:49:38.290Z"
   },
   {
    "duration": 28,
    "start_time": "2022-06-20T07:49:40.819Z"
   },
   {
    "duration": 30,
    "start_time": "2022-06-20T07:49:45.897Z"
   },
   {
    "duration": 31,
    "start_time": "2022-06-20T07:49:50.802Z"
   },
   {
    "duration": 89,
    "start_time": "2022-06-20T07:50:04.022Z"
   },
   {
    "duration": 59,
    "start_time": "2022-06-20T07:50:13.261Z"
   },
   {
    "duration": 42,
    "start_time": "2022-06-20T07:50:18.507Z"
   },
   {
    "duration": 392,
    "start_time": "2022-06-20T07:50:21.057Z"
   },
   {
    "duration": 9,
    "start_time": "2022-06-20T07:50:21.452Z"
   },
   {
    "duration": 12,
    "start_time": "2022-06-20T07:50:23.643Z"
   },
   {
    "duration": 6547,
    "start_time": "2022-06-20T07:50:33.939Z"
   },
   {
    "duration": 4,
    "start_time": "2022-06-21T15:21:06.293Z"
   }
  ],
  "kernelspec": {
   "display_name": "Python 3 (ipykernel)",
   "language": "python",
   "name": "python3"
  },
  "language_info": {
   "codemirror_mode": {
    "name": "ipython",
    "version": 3
   },
   "file_extension": ".py",
   "mimetype": "text/x-python",
   "name": "python",
   "nbconvert_exporter": "python",
   "pygments_lexer": "ipython3",
   "version": "3.9.5"
  },
  "toc": {
   "base_numbering": 1,
   "nav_menu": {},
   "number_sections": true,
   "sideBar": true,
   "skip_h1_title": true,
   "title_cell": "Содержание",
   "title_sidebar": "Содержание",
   "toc_cell": true,
   "toc_position": {
    "height": "calc(100% - 180px)",
    "left": "10px",
    "top": "150px",
    "width": "302.358px"
   },
   "toc_section_display": true,
   "toc_window_display": true
  }
 },
 "nbformat": 4,
 "nbformat_minor": 2
}
